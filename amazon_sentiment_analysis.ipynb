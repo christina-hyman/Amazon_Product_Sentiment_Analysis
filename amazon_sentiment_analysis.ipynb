{
  "cells": [
    {
      "cell_type": "markdown",
      "metadata": {},
      "source": [
        "## Amazon Product Sentiment Analysis using VADER and RoBERTa\n",
        "\n",
        "This project focuses on performing sentiment analysis on Amazon product reviews by leveraging two popular NLP models: RoBERTa, a deep learning transformer-based model, and VADER, a lexicon and rule-based model optimized for social media text. The objective is to classify review texts into three sentiment categories—positive, neutral, and negative—while comparing the performance and accuracy of each model. This study evaluates how each model handles different nuances in review sentiment, such as intense emotions or mixed feedback, using metrics like precision, recall, and F1-score.<br><br>\n",
        "\n",
        "The results of this analysis provide insights into the strengths and weaknesses of transformer-based models versus traditional lexicon-based models in understanding customer sentiment within product reviews. This can help e-commerce platforms refine their review analysis tools to better gauge customer satisfaction and improve product recommendations.<br><br>"
      ]
    },
    {
      "cell_type": "code",
      "execution_count": 1,
      "metadata": {
        "colab": {
          "base_uri": "https://localhost:8080/"
        },
        "id": "YyAKMkQ0jOb2",
        "outputId": "673cb74e-da3c-4e64-cb79-d1be810b095a"
      },
      "outputs": [
        {
          "name": "stderr",
          "output_type": "stream",
          "text": [
            "[nltk_data] Downloading package punkt to /root/nltk_data...\n",
            "[nltk_data]   Package punkt is already up-to-date!\n",
            "[nltk_data] Downloading package punkt_tab to /root/nltk_data...\n",
            "[nltk_data]   Package punkt_tab is already up-to-date!\n",
            "[nltk_data] Downloading package averaged_perceptron_tagger_eng to\n",
            "[nltk_data]     /root/nltk_data...\n",
            "[nltk_data]   Package averaged_perceptron_tagger_eng is already up-to-\n",
            "[nltk_data]       date!\n",
            "[nltk_data] Downloading package maxent_ne_chunker_tab to\n",
            "[nltk_data]     /root/nltk_data...\n",
            "[nltk_data]   Package maxent_ne_chunker_tab is already up-to-date!\n",
            "[nltk_data] Downloading package words to /root/nltk_data...\n",
            "[nltk_data]   Package words is already up-to-date!\n",
            "[nltk_data] Downloading package vader_lexicon to /root/nltk_data...\n",
            "[nltk_data]   Package vader_lexicon is already up-to-date!\n"
          ]
        }
      ],
      "source": [
        "import numpy as np\n",
        "import pandas as pd\n",
        "import matplotlib.pyplot as plt\n",
        "import seaborn as sns\n",
        "from sklearn.metrics import classification_report, confusion_matrix\n",
        "from tqdm.notebook import tqdm\n",
        "import nltk\n",
        "nltk.download('punkt')\n",
        "nltk.download('punkt_tab')\n",
        "nltk.download('averaged_perceptron_tagger_eng')\n",
        "nltk.download('maxent_ne_chunker_tab')\n",
        "nltk.download('words')\n",
        "nltk.download('vader_lexicon')\n",
        "\n",
        "plt.style.use('ggplot')"
      ]
    },
    {
      "cell_type": "code",
      "execution_count": 2,
      "metadata": {
        "id": "CxSO032WjOb4"
      },
      "outputs": [],
      "source": [
        "df = pd.read_csv('reviews_filtered.csv')"
      ]
    },
    {
      "cell_type": "code",
      "execution_count": 3,
      "metadata": {
        "id": "C5yOgKKXjOb4"
      },
      "outputs": [],
      "source": [
        "df_balance = pd.read_csv('reviews_balance.csv')\n",
        "df_sample = pd.read_csv('reviews_sample.csv')"
      ]
    },
    {
      "cell_type": "code",
      "execution_count": 4,
      "metadata": {
        "colab": {
          "base_uri": "https://localhost:8080/"
        },
        "id": "wdg5S9enjOb4",
        "outputId": "d9a969fd-743f-4baa-a41a-2e26c04428d5"
      },
      "outputs": [
        {
          "name": "stdout",
          "output_type": "stream",
          "text": [
            "Text:  I have bought several of the Vitality canned dog food products and have found them all to be of good quality. The product looks more like a stew than a processed meat and it smells better. My Labrador is finicky and she appreciates this product better than  most.\n",
            "Score: 5\n"
          ]
        }
      ],
      "source": [
        "example = df['Text'][0]\n",
        "example_score = df['Score'][0]\n",
        "print(f'Text:  {example}\\nScore: {example_score}')"
      ]
    },
    {
      "cell_type": "code",
      "execution_count": 5,
      "metadata": {
        "id": "hOXKwLJ6jOb5"
      },
      "outputs": [],
      "source": [
        "example = df['Text'][0]"
      ]
    },
    {
      "cell_type": "markdown",
      "metadata": {
        "id": "FR5uAu4LjOb5"
      },
      "source": [
        "### Model 1: VADER (Valence Aware Dictionary and sEntiment Reasoner)\n",
        "\n",
        "NLTK's SentimentIntensityAnalyzer obtains the neg/neu/pos scores of the text.<br>\n",
        "\n",
        "The VADER model is a specialized sentiment analysis tool designed to analyze text, particularly in social media, by evaluating the sentiment expressed in a piece of text. It uses a lexicon of words that are associated with positive, negative, and neutral sentiments, allowing it to assign sentiment scores to texts based on the presence of these words and their context. VADER is particularly effective for short texts, such as product reviews, due to its ability to consider sentiment-laden terms and their modifiers (like \"very\" or \"not\").<br>\n",
        "\n",
        "The VADER model is applied to each review in the datasets (`df_balance` and `df_sample`) to generate sentiment scores. Each score includes:\n",
        "\n",
        "* Positive Score: Indicates the degree of positivity in the text.\n",
        "* Negative Score: Indicates the degree of negativity in the text.\n",
        "* Neutral Score: Indicates the degree of neutrality in the text.\n",
        "* Compound Score: A normalized score ranging from -1 (most negative) to +1 (most positive) that summarizes the overall sentiment."
      ]
    },
    {
      "cell_type": "code",
      "execution_count": 6,
      "metadata": {
        "id": "tpc4QlDAjOb6"
      },
      "outputs": [],
      "source": [
        "from nltk.sentiment import SentimentIntensityAnalyzer\n",
        "from tqdm.notebook import tqdm"
      ]
    },
    {
      "cell_type": "code",
      "execution_count": 7,
      "metadata": {
        "id": "hBhLuCaYjOb6"
      },
      "outputs": [],
      "source": [
        "sia = SentimentIntensityAnalyzer()\n",
        "vader_score = sia.polarity_scores(example)\n",
        "actual_score = df['Score'].iloc[0]"
      ]
    },
    {
      "cell_type": "markdown",
      "metadata": {
        "id": "w8j_2NxsjOb6"
      },
      "source": [
        "In this example, the VADER model accounted for 69.5% neutrality and 30.5% positivity. A high neutral score is a weakness in the VADER model with it's inability to understand the emotion behind the text and relationships between words. However, having compound be 0.924 assumes that this review is mostly positive."
      ]
    },
    {
      "cell_type": "code",
      "execution_count": 8,
      "metadata": {
        "colab": {
          "base_uri": "https://localhost:8080/"
        },
        "id": "e9AiQA7cjOb6",
        "outputId": "771df2f1-134b-4d18-c8c9-3464877cb9e7"
      },
      "outputs": [
        {
          "name": "stdout",
          "output_type": "stream",
          "text": [
            "Review Text: I have bought several of the Vitality canned dog food products and have found them all to be of good quality. The product looks more like a stew than a processed meat and it smells better. My Labrador is finicky and she appreciates this product better than  most.\n",
            "Vader Score: {'neg': 0.0, 'neu': 0.695, 'pos': 0.305, 'compound': 0.9441}\n",
            "Actual Score: 5\n"
          ]
        }
      ],
      "source": [
        "print(f'Review Text: {example}\\nVader Score: {vader_score}\\nActual Score: {actual_score}')"
      ]
    },
    {
      "cell_type": "code",
      "execution_count": 9,
      "metadata": {
        "colab": {
          "base_uri": "https://localhost:8080/",
          "height": 49,
          "referenced_widgets": [
            "e085cc422bb74efeb45d4d6c8b688443",
            "2bffc0dfac0946829dfe9e254b566381",
            "5c3b548d649e4aed89f1a7852ee80b7b",
            "7bd46c6bdec740d282059482ce37d5c7",
            "96873c4e17424ce18662cc102c3f6a42",
            "0bb618ce5bce44c9bcdc37a6d5ac1d61",
            "c757ff102ccd40e8961c7cf9ab74f23d",
            "ddbaeeb0ef70489398b1e2208f61884c",
            "32cfe81fc55646afbe49566a51698a61",
            "11a8a3459192418e9c0abdff82661165",
            "055873d2bd134a85950a6f3719361bb9"
          ]
        },
        "id": "Oc_WVUD5jOb6",
        "outputId": "3c7bc8f8-d9e6-4310-c7fa-e26810a97fd8"
      },
      "outputs": [
        {
          "data": {
            "application/vnd.jupyter.widget-view+json": {
              "model_id": "e085cc422bb74efeb45d4d6c8b688443",
              "version_major": 2,
              "version_minor": 0
            },
            "text/plain": [
              "  0%|          | 0/1500 [00:00<?, ?it/s]"
            ]
          },
          "metadata": {},
          "output_type": "display_data"
        }
      ],
      "source": [
        "results = {}\n",
        "\n",
        "for i, row in tqdm(df_balance.iterrows(), total=len(df_balance)):\n",
        "    text = row['Text']\n",
        "    id = row['Id']\n",
        "    results[id] = sia.polarity_scores(text)"
      ]
    },
    {
      "cell_type": "code",
      "execution_count": 10,
      "metadata": {
        "colab": {
          "base_uri": "https://localhost:8080/",
          "height": 423
        },
        "id": "wQ3S_zt8jOb7",
        "outputId": "f742887e-a932-478f-9af9-abbcc6ce6d49"
      },
      "outputs": [
        {
          "data": {
            "application/vnd.google.colaboratory.intrinsic+json": {
              "summary": "{\n  \"name\": \"df_vader_balance\",\n  \"rows\": 1500,\n  \"fields\": [\n    {\n      \"column\": \"Id\",\n      \"properties\": {\n        \"dtype\": \"number\",\n        \"std\": 166218,\n        \"min\": 84,\n        \"max\": 568180,\n        \"num_unique_values\": 1500,\n        \"samples\": [\n          69547,\n          548971,\n          483609\n        ],\n        \"semantic_type\": \"\",\n        \"description\": \"\"\n      }\n    },\n    {\n      \"column\": \"neg\",\n      \"properties\": {\n        \"dtype\": \"number\",\n        \"std\": 0.059222084311345895,\n        \"min\": 0.0,\n        \"max\": 0.346,\n        \"num_unique_values\": 216,\n        \"samples\": [\n          0.143,\n          0.211,\n          0.036\n        ],\n        \"semantic_type\": \"\",\n        \"description\": \"\"\n      }\n    },\n    {\n      \"column\": \"neu\",\n      \"properties\": {\n        \"dtype\": \"number\",\n        \"std\": 0.09340944958837853,\n        \"min\": 0.443,\n        \"max\": 1.0,\n        \"num_unique_values\": 379,\n        \"samples\": [\n          0.761,\n          0.774,\n          0.563\n        ],\n        \"semantic_type\": \"\",\n        \"description\": \"\"\n      }\n    },\n    {\n      \"column\": \"pos\",\n      \"properties\": {\n        \"dtype\": \"number\",\n        \"std\": 0.09185539381987731,\n        \"min\": 0.0,\n        \"max\": 0.515,\n        \"num_unique_values\": 341,\n        \"samples\": [\n          0.37,\n          0.049,\n          0.025\n        ],\n        \"semantic_type\": \"\",\n        \"description\": \"\"\n      }\n    },\n    {\n      \"column\": \"compound\",\n      \"properties\": {\n        \"dtype\": \"number\",\n        \"std\": 0.5685311716589145,\n        \"min\": -0.9765,\n        \"max\": 0.9957,\n        \"num_unique_values\": 1154,\n        \"samples\": [\n          0.6347,\n          0.9294,\n          0.249\n        ],\n        \"semantic_type\": \"\",\n        \"description\": \"\"\n      }\n    }\n  ]\n}",
              "type": "dataframe",
              "variable_name": "df_vader_balance"
            },
            "text/html": [
              "\n",
              "  <div id=\"df-26539256-0123-4647-8ed0-f3a0b349a58f\" class=\"colab-df-container\">\n",
              "    <div>\n",
              "<style scoped>\n",
              "    .dataframe tbody tr th:only-of-type {\n",
              "        vertical-align: middle;\n",
              "    }\n",
              "\n",
              "    .dataframe tbody tr th {\n",
              "        vertical-align: top;\n",
              "    }\n",
              "\n",
              "    .dataframe thead th {\n",
              "        text-align: right;\n",
              "    }\n",
              "</style>\n",
              "<table border=\"1\" class=\"dataframe\">\n",
              "  <thead>\n",
              "    <tr style=\"text-align: right;\">\n",
              "      <th></th>\n",
              "      <th>Id</th>\n",
              "      <th>neg</th>\n",
              "      <th>neu</th>\n",
              "      <th>pos</th>\n",
              "      <th>compound</th>\n",
              "    </tr>\n",
              "  </thead>\n",
              "  <tbody>\n",
              "    <tr>\n",
              "      <th>0</th>\n",
              "      <td>12285</td>\n",
              "      <td>0.114</td>\n",
              "      <td>0.744</td>\n",
              "      <td>0.142</td>\n",
              "      <td>0.4976</td>\n",
              "    </tr>\n",
              "    <tr>\n",
              "      <th>1</th>\n",
              "      <td>190572</td>\n",
              "      <td>0.058</td>\n",
              "      <td>0.831</td>\n",
              "      <td>0.111</td>\n",
              "      <td>0.1531</td>\n",
              "    </tr>\n",
              "    <tr>\n",
              "      <th>2</th>\n",
              "      <td>220728</td>\n",
              "      <td>0.113</td>\n",
              "      <td>0.839</td>\n",
              "      <td>0.047</td>\n",
              "      <td>-0.5574</td>\n",
              "    </tr>\n",
              "    <tr>\n",
              "      <th>3</th>\n",
              "      <td>510421</td>\n",
              "      <td>0.064</td>\n",
              "      <td>0.832</td>\n",
              "      <td>0.103</td>\n",
              "      <td>0.9127</td>\n",
              "    </tr>\n",
              "    <tr>\n",
              "      <th>4</th>\n",
              "      <td>567952</td>\n",
              "      <td>0.000</td>\n",
              "      <td>0.667</td>\n",
              "      <td>0.333</td>\n",
              "      <td>0.9681</td>\n",
              "    </tr>\n",
              "    <tr>\n",
              "      <th>...</th>\n",
              "      <td>...</td>\n",
              "      <td>...</td>\n",
              "      <td>...</td>\n",
              "      <td>...</td>\n",
              "      <td>...</td>\n",
              "    </tr>\n",
              "    <tr>\n",
              "      <th>1495</th>\n",
              "      <td>543113</td>\n",
              "      <td>0.000</td>\n",
              "      <td>0.699</td>\n",
              "      <td>0.301</td>\n",
              "      <td>0.8805</td>\n",
              "    </tr>\n",
              "    <tr>\n",
              "      <th>1496</th>\n",
              "      <td>540138</td>\n",
              "      <td>0.041</td>\n",
              "      <td>0.592</td>\n",
              "      <td>0.367</td>\n",
              "      <td>0.9700</td>\n",
              "    </tr>\n",
              "    <tr>\n",
              "      <th>1497</th>\n",
              "      <td>547668</td>\n",
              "      <td>0.079</td>\n",
              "      <td>0.633</td>\n",
              "      <td>0.288</td>\n",
              "      <td>0.9627</td>\n",
              "    </tr>\n",
              "    <tr>\n",
              "      <th>1498</th>\n",
              "      <td>419208</td>\n",
              "      <td>0.074</td>\n",
              "      <td>0.825</td>\n",
              "      <td>0.101</td>\n",
              "      <td>0.0772</td>\n",
              "    </tr>\n",
              "    <tr>\n",
              "      <th>1499</th>\n",
              "      <td>39236</td>\n",
              "      <td>0.000</td>\n",
              "      <td>0.869</td>\n",
              "      <td>0.131</td>\n",
              "      <td>0.6103</td>\n",
              "    </tr>\n",
              "  </tbody>\n",
              "</table>\n",
              "<p>1500 rows × 5 columns</p>\n",
              "</div>\n",
              "    <div class=\"colab-df-buttons\">\n",
              "\n",
              "  <div class=\"colab-df-container\">\n",
              "    <button class=\"colab-df-convert\" onclick=\"convertToInteractive('df-26539256-0123-4647-8ed0-f3a0b349a58f')\"\n",
              "            title=\"Convert this dataframe to an interactive table.\"\n",
              "            style=\"display:none;\">\n",
              "\n",
              "  <svg xmlns=\"http://www.w3.org/2000/svg\" height=\"24px\" viewBox=\"0 -960 960 960\">\n",
              "    <path d=\"M120-120v-720h720v720H120Zm60-500h600v-160H180v160Zm220 220h160v-160H400v160Zm0 220h160v-160H400v160ZM180-400h160v-160H180v160Zm440 0h160v-160H620v160ZM180-180h160v-160H180v160Zm440 0h160v-160H620v160Z\"/>\n",
              "  </svg>\n",
              "    </button>\n",
              "\n",
              "  <style>\n",
              "    .colab-df-container {\n",
              "      display:flex;\n",
              "      gap: 12px;\n",
              "    }\n",
              "\n",
              "    .colab-df-convert {\n",
              "      background-color: #E8F0FE;\n",
              "      border: none;\n",
              "      border-radius: 50%;\n",
              "      cursor: pointer;\n",
              "      display: none;\n",
              "      fill: #1967D2;\n",
              "      height: 32px;\n",
              "      padding: 0 0 0 0;\n",
              "      width: 32px;\n",
              "    }\n",
              "\n",
              "    .colab-df-convert:hover {\n",
              "      background-color: #E2EBFA;\n",
              "      box-shadow: 0px 1px 2px rgba(60, 64, 67, 0.3), 0px 1px 3px 1px rgba(60, 64, 67, 0.15);\n",
              "      fill: #174EA6;\n",
              "    }\n",
              "\n",
              "    .colab-df-buttons div {\n",
              "      margin-bottom: 4px;\n",
              "    }\n",
              "\n",
              "    [theme=dark] .colab-df-convert {\n",
              "      background-color: #3B4455;\n",
              "      fill: #D2E3FC;\n",
              "    }\n",
              "\n",
              "    [theme=dark] .colab-df-convert:hover {\n",
              "      background-color: #434B5C;\n",
              "      box-shadow: 0px 1px 3px 1px rgba(0, 0, 0, 0.15);\n",
              "      filter: drop-shadow(0px 1px 2px rgba(0, 0, 0, 0.3));\n",
              "      fill: #FFFFFF;\n",
              "    }\n",
              "  </style>\n",
              "\n",
              "    <script>\n",
              "      const buttonEl =\n",
              "        document.querySelector('#df-26539256-0123-4647-8ed0-f3a0b349a58f button.colab-df-convert');\n",
              "      buttonEl.style.display =\n",
              "        google.colab.kernel.accessAllowed ? 'block' : 'none';\n",
              "\n",
              "      async function convertToInteractive(key) {\n",
              "        const element = document.querySelector('#df-26539256-0123-4647-8ed0-f3a0b349a58f');\n",
              "        const dataTable =\n",
              "          await google.colab.kernel.invokeFunction('convertToInteractive',\n",
              "                                                    [key], {});\n",
              "        if (!dataTable) return;\n",
              "\n",
              "        const docLinkHtml = 'Like what you see? Visit the ' +\n",
              "          '<a target=\"_blank\" href=https://colab.research.google.com/notebooks/data_table.ipynb>data table notebook</a>'\n",
              "          + ' to learn more about interactive tables.';\n",
              "        element.innerHTML = '';\n",
              "        dataTable['output_type'] = 'display_data';\n",
              "        await google.colab.output.renderOutput(dataTable, element);\n",
              "        const docLink = document.createElement('div');\n",
              "        docLink.innerHTML = docLinkHtml;\n",
              "        element.appendChild(docLink);\n",
              "      }\n",
              "    </script>\n",
              "  </div>\n",
              "\n",
              "\n",
              "<div id=\"df-40ef8b7e-102b-4987-b28c-41a7fec09e6e\">\n",
              "  <button class=\"colab-df-quickchart\" onclick=\"quickchart('df-40ef8b7e-102b-4987-b28c-41a7fec09e6e')\"\n",
              "            title=\"Suggest charts\"\n",
              "            style=\"display:none;\">\n",
              "\n",
              "<svg xmlns=\"http://www.w3.org/2000/svg\" height=\"24px\"viewBox=\"0 0 24 24\"\n",
              "     width=\"24px\">\n",
              "    <g>\n",
              "        <path d=\"M19 3H5c-1.1 0-2 .9-2 2v14c0 1.1.9 2 2 2h14c1.1 0 2-.9 2-2V5c0-1.1-.9-2-2-2zM9 17H7v-7h2v7zm4 0h-2V7h2v10zm4 0h-2v-4h2v4z\"/>\n",
              "    </g>\n",
              "</svg>\n",
              "  </button>\n",
              "\n",
              "<style>\n",
              "  .colab-df-quickchart {\n",
              "      --bg-color: #E8F0FE;\n",
              "      --fill-color: #1967D2;\n",
              "      --hover-bg-color: #E2EBFA;\n",
              "      --hover-fill-color: #174EA6;\n",
              "      --disabled-fill-color: #AAA;\n",
              "      --disabled-bg-color: #DDD;\n",
              "  }\n",
              "\n",
              "  [theme=dark] .colab-df-quickchart {\n",
              "      --bg-color: #3B4455;\n",
              "      --fill-color: #D2E3FC;\n",
              "      --hover-bg-color: #434B5C;\n",
              "      --hover-fill-color: #FFFFFF;\n",
              "      --disabled-bg-color: #3B4455;\n",
              "      --disabled-fill-color: #666;\n",
              "  }\n",
              "\n",
              "  .colab-df-quickchart {\n",
              "    background-color: var(--bg-color);\n",
              "    border: none;\n",
              "    border-radius: 50%;\n",
              "    cursor: pointer;\n",
              "    display: none;\n",
              "    fill: var(--fill-color);\n",
              "    height: 32px;\n",
              "    padding: 0;\n",
              "    width: 32px;\n",
              "  }\n",
              "\n",
              "  .colab-df-quickchart:hover {\n",
              "    background-color: var(--hover-bg-color);\n",
              "    box-shadow: 0 1px 2px rgba(60, 64, 67, 0.3), 0 1px 3px 1px rgba(60, 64, 67, 0.15);\n",
              "    fill: var(--button-hover-fill-color);\n",
              "  }\n",
              "\n",
              "  .colab-df-quickchart-complete:disabled,\n",
              "  .colab-df-quickchart-complete:disabled:hover {\n",
              "    background-color: var(--disabled-bg-color);\n",
              "    fill: var(--disabled-fill-color);\n",
              "    box-shadow: none;\n",
              "  }\n",
              "\n",
              "  .colab-df-spinner {\n",
              "    border: 2px solid var(--fill-color);\n",
              "    border-color: transparent;\n",
              "    border-bottom-color: var(--fill-color);\n",
              "    animation:\n",
              "      spin 1s steps(1) infinite;\n",
              "  }\n",
              "\n",
              "  @keyframes spin {\n",
              "    0% {\n",
              "      border-color: transparent;\n",
              "      border-bottom-color: var(--fill-color);\n",
              "      border-left-color: var(--fill-color);\n",
              "    }\n",
              "    20% {\n",
              "      border-color: transparent;\n",
              "      border-left-color: var(--fill-color);\n",
              "      border-top-color: var(--fill-color);\n",
              "    }\n",
              "    30% {\n",
              "      border-color: transparent;\n",
              "      border-left-color: var(--fill-color);\n",
              "      border-top-color: var(--fill-color);\n",
              "      border-right-color: var(--fill-color);\n",
              "    }\n",
              "    40% {\n",
              "      border-color: transparent;\n",
              "      border-right-color: var(--fill-color);\n",
              "      border-top-color: var(--fill-color);\n",
              "    }\n",
              "    60% {\n",
              "      border-color: transparent;\n",
              "      border-right-color: var(--fill-color);\n",
              "    }\n",
              "    80% {\n",
              "      border-color: transparent;\n",
              "      border-right-color: var(--fill-color);\n",
              "      border-bottom-color: var(--fill-color);\n",
              "    }\n",
              "    90% {\n",
              "      border-color: transparent;\n",
              "      border-bottom-color: var(--fill-color);\n",
              "    }\n",
              "  }\n",
              "</style>\n",
              "\n",
              "  <script>\n",
              "    async function quickchart(key) {\n",
              "      const quickchartButtonEl =\n",
              "        document.querySelector('#' + key + ' button');\n",
              "      quickchartButtonEl.disabled = true;  // To prevent multiple clicks.\n",
              "      quickchartButtonEl.classList.add('colab-df-spinner');\n",
              "      try {\n",
              "        const charts = await google.colab.kernel.invokeFunction(\n",
              "            'suggestCharts', [key], {});\n",
              "      } catch (error) {\n",
              "        console.error('Error during call to suggestCharts:', error);\n",
              "      }\n",
              "      quickchartButtonEl.classList.remove('colab-df-spinner');\n",
              "      quickchartButtonEl.classList.add('colab-df-quickchart-complete');\n",
              "    }\n",
              "    (() => {\n",
              "      let quickchartButtonEl =\n",
              "        document.querySelector('#df-40ef8b7e-102b-4987-b28c-41a7fec09e6e button');\n",
              "      quickchartButtonEl.style.display =\n",
              "        google.colab.kernel.accessAllowed ? 'block' : 'none';\n",
              "    })();\n",
              "  </script>\n",
              "</div>\n",
              "\n",
              "  <div id=\"id_5ad153d6-80f3-424b-8734-ded2aa985585\">\n",
              "    <style>\n",
              "      .colab-df-generate {\n",
              "        background-color: #E8F0FE;\n",
              "        border: none;\n",
              "        border-radius: 50%;\n",
              "        cursor: pointer;\n",
              "        display: none;\n",
              "        fill: #1967D2;\n",
              "        height: 32px;\n",
              "        padding: 0 0 0 0;\n",
              "        width: 32px;\n",
              "      }\n",
              "\n",
              "      .colab-df-generate:hover {\n",
              "        background-color: #E2EBFA;\n",
              "        box-shadow: 0px 1px 2px rgba(60, 64, 67, 0.3), 0px 1px 3px 1px rgba(60, 64, 67, 0.15);\n",
              "        fill: #174EA6;\n",
              "      }\n",
              "\n",
              "      [theme=dark] .colab-df-generate {\n",
              "        background-color: #3B4455;\n",
              "        fill: #D2E3FC;\n",
              "      }\n",
              "\n",
              "      [theme=dark] .colab-df-generate:hover {\n",
              "        background-color: #434B5C;\n",
              "        box-shadow: 0px 1px 3px 1px rgba(0, 0, 0, 0.15);\n",
              "        filter: drop-shadow(0px 1px 2px rgba(0, 0, 0, 0.3));\n",
              "        fill: #FFFFFF;\n",
              "      }\n",
              "    </style>\n",
              "    <button class=\"colab-df-generate\" onclick=\"generateWithVariable('df_vader_balance')\"\n",
              "            title=\"Generate code using this dataframe.\"\n",
              "            style=\"display:none;\">\n",
              "\n",
              "  <svg xmlns=\"http://www.w3.org/2000/svg\" height=\"24px\"viewBox=\"0 0 24 24\"\n",
              "       width=\"24px\">\n",
              "    <path d=\"M7,19H8.4L18.45,9,17,7.55,7,17.6ZM5,21V16.75L18.45,3.32a2,2,0,0,1,2.83,0l1.4,1.43a1.91,1.91,0,0,1,.58,1.4,1.91,1.91,0,0,1-.58,1.4L9.25,21ZM18.45,9,17,7.55Zm-12,3A5.31,5.31,0,0,0,4.9,8.1,5.31,5.31,0,0,0,1,6.5,5.31,5.31,0,0,0,4.9,4.9,5.31,5.31,0,0,0,6.5,1,5.31,5.31,0,0,0,8.1,4.9,5.31,5.31,0,0,0,12,6.5,5.46,5.46,0,0,0,6.5,12Z\"/>\n",
              "  </svg>\n",
              "    </button>\n",
              "    <script>\n",
              "      (() => {\n",
              "      const buttonEl =\n",
              "        document.querySelector('#id_5ad153d6-80f3-424b-8734-ded2aa985585 button.colab-df-generate');\n",
              "      buttonEl.style.display =\n",
              "        google.colab.kernel.accessAllowed ? 'block' : 'none';\n",
              "\n",
              "      buttonEl.onclick = () => {\n",
              "        google.colab.notebook.generateWithVariable('df_vader_balance');\n",
              "      }\n",
              "      })();\n",
              "    </script>\n",
              "  </div>\n",
              "\n",
              "    </div>\n",
              "  </div>\n"
            ],
            "text/plain": [
              "          Id    neg    neu    pos  compound\n",
              "0      12285  0.114  0.744  0.142    0.4976\n",
              "1     190572  0.058  0.831  0.111    0.1531\n",
              "2     220728  0.113  0.839  0.047   -0.5574\n",
              "3     510421  0.064  0.832  0.103    0.9127\n",
              "4     567952  0.000  0.667  0.333    0.9681\n",
              "...      ...    ...    ...    ...       ...\n",
              "1495  543113  0.000  0.699  0.301    0.8805\n",
              "1496  540138  0.041  0.592  0.367    0.9700\n",
              "1497  547668  0.079  0.633  0.288    0.9627\n",
              "1498  419208  0.074  0.825  0.101    0.0772\n",
              "1499   39236  0.000  0.869  0.131    0.6103\n",
              "\n",
              "[1500 rows x 5 columns]"
            ]
          },
          "execution_count": 10,
          "metadata": {},
          "output_type": "execute_result"
        }
      ],
      "source": [
        "df_vader_balance = pd.DataFrame(results).T\n",
        "df_vader_balance = df_vader_balance.reset_index().rename(columns={'index':'Id'})\n",
        "df_vader_balance"
      ]
    },
    {
      "cell_type": "code",
      "execution_count": 11,
      "metadata": {
        "colab": {
          "base_uri": "https://localhost:8080/",
          "height": 80
        },
        "id": "X9qy1LbvjOb7",
        "outputId": "5e9f6085-0844-4a08-8a33-9d3ad328bb03"
      },
      "outputs": [
        {
          "data": {
            "application/vnd.google.colaboratory.intrinsic+json": {
              "summary": "{\n  \"name\": \"df_vader_balance\",\n  \"rows\": 1500,\n  \"fields\": [\n    {\n      \"column\": \"Id\",\n      \"properties\": {\n        \"dtype\": \"number\",\n        \"std\": 166218,\n        \"min\": 84,\n        \"max\": 568180,\n        \"num_unique_values\": 1500,\n        \"samples\": [\n          69547,\n          548971,\n          483609\n        ],\n        \"semantic_type\": \"\",\n        \"description\": \"\"\n      }\n    },\n    {\n      \"column\": \"neg\",\n      \"properties\": {\n        \"dtype\": \"number\",\n        \"std\": 0.059222084311345895,\n        \"min\": 0.0,\n        \"max\": 0.346,\n        \"num_unique_values\": 216,\n        \"samples\": [\n          0.143,\n          0.211,\n          0.036\n        ],\n        \"semantic_type\": \"\",\n        \"description\": \"\"\n      }\n    },\n    {\n      \"column\": \"neu\",\n      \"properties\": {\n        \"dtype\": \"number\",\n        \"std\": 0.09340944958837853,\n        \"min\": 0.443,\n        \"max\": 1.0,\n        \"num_unique_values\": 379,\n        \"samples\": [\n          0.761,\n          0.774,\n          0.563\n        ],\n        \"semantic_type\": \"\",\n        \"description\": \"\"\n      }\n    },\n    {\n      \"column\": \"pos\",\n      \"properties\": {\n        \"dtype\": \"number\",\n        \"std\": 0.09185539381987731,\n        \"min\": 0.0,\n        \"max\": 0.515,\n        \"num_unique_values\": 341,\n        \"samples\": [\n          0.37,\n          0.049,\n          0.025\n        ],\n        \"semantic_type\": \"\",\n        \"description\": \"\"\n      }\n    },\n    {\n      \"column\": \"compound\",\n      \"properties\": {\n        \"dtype\": \"number\",\n        \"std\": 0.5685311716589145,\n        \"min\": -0.9765,\n        \"max\": 0.9957,\n        \"num_unique_values\": 1154,\n        \"samples\": [\n          0.6347,\n          0.9294,\n          0.249\n        ],\n        \"semantic_type\": \"\",\n        \"description\": \"\"\n      }\n    },\n    {\n      \"column\": \"Score\",\n      \"properties\": {\n        \"dtype\": \"number\",\n        \"std\": 1,\n        \"min\": 1,\n        \"max\": 5,\n        \"num_unique_values\": 5,\n        \"samples\": [\n          2,\n          5,\n          3\n        ],\n        \"semantic_type\": \"\",\n        \"description\": \"\"\n      }\n    },\n    {\n      \"column\": \"Text\",\n      \"properties\": {\n        \"dtype\": \"string\",\n        \"num_unique_values\": 1489,\n        \"samples\": [\n          \"I made a purchase because of the rave reviews of others. After few tried out I found it lacks the typical full body aroma of sumatra grown coffee beans  which I'm so used to it. May be because it is organic therefore not so full of flavor.\",\n          \"Not the same drops from Flathau that I remember. The ones I was expecting had powdered sugar. I was disappointed.\",\n          \"I was giving my shihtzu the Fromm Adult Gold dog food. She didn't seem to want to eat it though so I thought I would try something different. I found the Harmony Farms and thought I'd give it a try. She actually liked it. It's cheaper then the other food and it seemed to contain really healthy ingredients. I couldn't believe how she gobbled this up. BUT after having her on this for a week she developed a rash on her stomach. Took her off and the rash went away completely in 2 days. Her hair also wasn't as soft. This kibble did not do well for her.\"\n        ],\n        \"semantic_type\": \"\",\n        \"description\": \"\"\n      }\n    },\n    {\n      \"column\": \"TrueLabel\",\n      \"properties\": {\n        \"dtype\": \"category\",\n        \"num_unique_values\": 3,\n        \"samples\": [\n          \"negative\",\n          \"neutral\",\n          \"positive\"\n        ],\n        \"semantic_type\": \"\",\n        \"description\": \"\"\n      }\n    }\n  ]\n}",
              "type": "dataframe",
              "variable_name": "df_vader_balance"
            },
            "text/html": [
              "\n",
              "  <div id=\"df-ca34492f-4e3d-4a25-8226-fc944ebebf1c\" class=\"colab-df-container\">\n",
              "    <div>\n",
              "<style scoped>\n",
              "    .dataframe tbody tr th:only-of-type {\n",
              "        vertical-align: middle;\n",
              "    }\n",
              "\n",
              "    .dataframe tbody tr th {\n",
              "        vertical-align: top;\n",
              "    }\n",
              "\n",
              "    .dataframe thead th {\n",
              "        text-align: right;\n",
              "    }\n",
              "</style>\n",
              "<table border=\"1\" class=\"dataframe\">\n",
              "  <thead>\n",
              "    <tr style=\"text-align: right;\">\n",
              "      <th></th>\n",
              "      <th>Id</th>\n",
              "      <th>neg</th>\n",
              "      <th>neu</th>\n",
              "      <th>pos</th>\n",
              "      <th>compound</th>\n",
              "      <th>Score</th>\n",
              "      <th>Text</th>\n",
              "      <th>TrueLabel</th>\n",
              "    </tr>\n",
              "  </thead>\n",
              "  <tbody>\n",
              "    <tr>\n",
              "      <th>0</th>\n",
              "      <td>12285</td>\n",
              "      <td>0.114</td>\n",
              "      <td>0.744</td>\n",
              "      <td>0.142</td>\n",
              "      <td>0.4976</td>\n",
              "      <td>1</td>\n",
              "      <td>These had been my dog's favorite treats. BUT w...</td>\n",
              "      <td>negative</td>\n",
              "    </tr>\n",
              "  </tbody>\n",
              "</table>\n",
              "</div>\n",
              "    <div class=\"colab-df-buttons\">\n",
              "\n",
              "  <div class=\"colab-df-container\">\n",
              "    <button class=\"colab-df-convert\" onclick=\"convertToInteractive('df-ca34492f-4e3d-4a25-8226-fc944ebebf1c')\"\n",
              "            title=\"Convert this dataframe to an interactive table.\"\n",
              "            style=\"display:none;\">\n",
              "\n",
              "  <svg xmlns=\"http://www.w3.org/2000/svg\" height=\"24px\" viewBox=\"0 -960 960 960\">\n",
              "    <path d=\"M120-120v-720h720v720H120Zm60-500h600v-160H180v160Zm220 220h160v-160H400v160Zm0 220h160v-160H400v160ZM180-400h160v-160H180v160Zm440 0h160v-160H620v160ZM180-180h160v-160H180v160Zm440 0h160v-160H620v160Z\"/>\n",
              "  </svg>\n",
              "    </button>\n",
              "\n",
              "  <style>\n",
              "    .colab-df-container {\n",
              "      display:flex;\n",
              "      gap: 12px;\n",
              "    }\n",
              "\n",
              "    .colab-df-convert {\n",
              "      background-color: #E8F0FE;\n",
              "      border: none;\n",
              "      border-radius: 50%;\n",
              "      cursor: pointer;\n",
              "      display: none;\n",
              "      fill: #1967D2;\n",
              "      height: 32px;\n",
              "      padding: 0 0 0 0;\n",
              "      width: 32px;\n",
              "    }\n",
              "\n",
              "    .colab-df-convert:hover {\n",
              "      background-color: #E2EBFA;\n",
              "      box-shadow: 0px 1px 2px rgba(60, 64, 67, 0.3), 0px 1px 3px 1px rgba(60, 64, 67, 0.15);\n",
              "      fill: #174EA6;\n",
              "    }\n",
              "\n",
              "    .colab-df-buttons div {\n",
              "      margin-bottom: 4px;\n",
              "    }\n",
              "\n",
              "    [theme=dark] .colab-df-convert {\n",
              "      background-color: #3B4455;\n",
              "      fill: #D2E3FC;\n",
              "    }\n",
              "\n",
              "    [theme=dark] .colab-df-convert:hover {\n",
              "      background-color: #434B5C;\n",
              "      box-shadow: 0px 1px 3px 1px rgba(0, 0, 0, 0.15);\n",
              "      filter: drop-shadow(0px 1px 2px rgba(0, 0, 0, 0.3));\n",
              "      fill: #FFFFFF;\n",
              "    }\n",
              "  </style>\n",
              "\n",
              "    <script>\n",
              "      const buttonEl =\n",
              "        document.querySelector('#df-ca34492f-4e3d-4a25-8226-fc944ebebf1c button.colab-df-convert');\n",
              "      buttonEl.style.display =\n",
              "        google.colab.kernel.accessAllowed ? 'block' : 'none';\n",
              "\n",
              "      async function convertToInteractive(key) {\n",
              "        const element = document.querySelector('#df-ca34492f-4e3d-4a25-8226-fc944ebebf1c');\n",
              "        const dataTable =\n",
              "          await google.colab.kernel.invokeFunction('convertToInteractive',\n",
              "                                                    [key], {});\n",
              "        if (!dataTable) return;\n",
              "\n",
              "        const docLinkHtml = 'Like what you see? Visit the ' +\n",
              "          '<a target=\"_blank\" href=https://colab.research.google.com/notebooks/data_table.ipynb>data table notebook</a>'\n",
              "          + ' to learn more about interactive tables.';\n",
              "        element.innerHTML = '';\n",
              "        dataTable['output_type'] = 'display_data';\n",
              "        await google.colab.output.renderOutput(dataTable, element);\n",
              "        const docLink = document.createElement('div');\n",
              "        docLink.innerHTML = docLinkHtml;\n",
              "        element.appendChild(docLink);\n",
              "      }\n",
              "    </script>\n",
              "  </div>\n",
              "\n",
              "\n",
              "    </div>\n",
              "  </div>\n"
            ],
            "text/plain": [
              "      Id    neg    neu    pos  compound  Score  \\\n",
              "0  12285  0.114  0.744  0.142    0.4976      1   \n",
              "\n",
              "                                                Text TrueLabel  \n",
              "0  These had been my dog's favorite treats. BUT w...  negative  "
            ]
          },
          "execution_count": 11,
          "metadata": {},
          "output_type": "execute_result"
        }
      ],
      "source": [
        "df_vader_balance = df_vader_balance.merge(df_balance, how='left')\n",
        "df_vader_balance.head(1)"
      ]
    },
    {
      "cell_type": "code",
      "execution_count": 12,
      "metadata": {
        "id": "h9UepfjCjOb7"
      },
      "outputs": [],
      "source": [
        "df_vader_balance['VaderLabel'] = df_vader_balance['compound'].apply(lambda x: 'positive' if x >= 0.05\n",
        "                                                    else ('negative' if x <= -0.05 else 'neutral'))\n"
      ]
    },
    {
      "cell_type": "code",
      "execution_count": 13,
      "metadata": {
        "colab": {
          "base_uri": "https://localhost:8080/",
          "height": 80
        },
        "id": "2c-SPumhjOb7",
        "outputId": "4a87f8aa-c6ef-4b8f-f3eb-051ec4daa9c4"
      },
      "outputs": [
        {
          "data": {
            "application/vnd.google.colaboratory.intrinsic+json": {
              "summary": "{\n  \"name\": \"df_vader_balance\",\n  \"rows\": 1500,\n  \"fields\": [\n    {\n      \"column\": \"Id\",\n      \"properties\": {\n        \"dtype\": \"number\",\n        \"std\": 166218,\n        \"min\": 84,\n        \"max\": 568180,\n        \"num_unique_values\": 1500,\n        \"samples\": [\n          69547,\n          548971,\n          483609\n        ],\n        \"semantic_type\": \"\",\n        \"description\": \"\"\n      }\n    },\n    {\n      \"column\": \"neg\",\n      \"properties\": {\n        \"dtype\": \"number\",\n        \"std\": 0.059222084311345895,\n        \"min\": 0.0,\n        \"max\": 0.346,\n        \"num_unique_values\": 216,\n        \"samples\": [\n          0.143,\n          0.211,\n          0.036\n        ],\n        \"semantic_type\": \"\",\n        \"description\": \"\"\n      }\n    },\n    {\n      \"column\": \"neu\",\n      \"properties\": {\n        \"dtype\": \"number\",\n        \"std\": 0.09340944958837853,\n        \"min\": 0.443,\n        \"max\": 1.0,\n        \"num_unique_values\": 379,\n        \"samples\": [\n          0.761,\n          0.774,\n          0.563\n        ],\n        \"semantic_type\": \"\",\n        \"description\": \"\"\n      }\n    },\n    {\n      \"column\": \"pos\",\n      \"properties\": {\n        \"dtype\": \"number\",\n        \"std\": 0.09185539381987731,\n        \"min\": 0.0,\n        \"max\": 0.515,\n        \"num_unique_values\": 341,\n        \"samples\": [\n          0.37,\n          0.049,\n          0.025\n        ],\n        \"semantic_type\": \"\",\n        \"description\": \"\"\n      }\n    },\n    {\n      \"column\": \"compound\",\n      \"properties\": {\n        \"dtype\": \"number\",\n        \"std\": 0.5685311716589145,\n        \"min\": -0.9765,\n        \"max\": 0.9957,\n        \"num_unique_values\": 1154,\n        \"samples\": [\n          0.6347,\n          0.9294,\n          0.249\n        ],\n        \"semantic_type\": \"\",\n        \"description\": \"\"\n      }\n    },\n    {\n      \"column\": \"Score\",\n      \"properties\": {\n        \"dtype\": \"number\",\n        \"std\": 1,\n        \"min\": 1,\n        \"max\": 5,\n        \"num_unique_values\": 5,\n        \"samples\": [\n          2,\n          5,\n          3\n        ],\n        \"semantic_type\": \"\",\n        \"description\": \"\"\n      }\n    },\n    {\n      \"column\": \"Text\",\n      \"properties\": {\n        \"dtype\": \"string\",\n        \"num_unique_values\": 1489,\n        \"samples\": [\n          \"I made a purchase because of the rave reviews of others. After few tried out I found it lacks the typical full body aroma of sumatra grown coffee beans  which I'm so used to it. May be because it is organic therefore not so full of flavor.\",\n          \"Not the same drops from Flathau that I remember. The ones I was expecting had powdered sugar. I was disappointed.\",\n          \"I was giving my shihtzu the Fromm Adult Gold dog food. She didn't seem to want to eat it though so I thought I would try something different. I found the Harmony Farms and thought I'd give it a try. She actually liked it. It's cheaper then the other food and it seemed to contain really healthy ingredients. I couldn't believe how she gobbled this up. BUT after having her on this for a week she developed a rash on her stomach. Took her off and the rash went away completely in 2 days. Her hair also wasn't as soft. This kibble did not do well for her.\"\n        ],\n        \"semantic_type\": \"\",\n        \"description\": \"\"\n      }\n    },\n    {\n      \"column\": \"TrueLabel\",\n      \"properties\": {\n        \"dtype\": \"category\",\n        \"num_unique_values\": 3,\n        \"samples\": [\n          \"negative\",\n          \"neutral\",\n          \"positive\"\n        ],\n        \"semantic_type\": \"\",\n        \"description\": \"\"\n      }\n    },\n    {\n      \"column\": \"VaderLabel\",\n      \"properties\": {\n        \"dtype\": \"category\",\n        \"num_unique_values\": 3,\n        \"samples\": [\n          \"positive\",\n          \"negative\",\n          \"neutral\"\n        ],\n        \"semantic_type\": \"\",\n        \"description\": \"\"\n      }\n    }\n  ]\n}",
              "type": "dataframe",
              "variable_name": "df_vader_balance"
            },
            "text/html": [
              "\n",
              "  <div id=\"df-7030086d-b005-488e-9310-96f4df8f1bfe\" class=\"colab-df-container\">\n",
              "    <div>\n",
              "<style scoped>\n",
              "    .dataframe tbody tr th:only-of-type {\n",
              "        vertical-align: middle;\n",
              "    }\n",
              "\n",
              "    .dataframe tbody tr th {\n",
              "        vertical-align: top;\n",
              "    }\n",
              "\n",
              "    .dataframe thead th {\n",
              "        text-align: right;\n",
              "    }\n",
              "</style>\n",
              "<table border=\"1\" class=\"dataframe\">\n",
              "  <thead>\n",
              "    <tr style=\"text-align: right;\">\n",
              "      <th></th>\n",
              "      <th>Id</th>\n",
              "      <th>neg</th>\n",
              "      <th>neu</th>\n",
              "      <th>pos</th>\n",
              "      <th>compound</th>\n",
              "      <th>Score</th>\n",
              "      <th>Text</th>\n",
              "      <th>TrueLabel</th>\n",
              "      <th>VaderLabel</th>\n",
              "    </tr>\n",
              "  </thead>\n",
              "  <tbody>\n",
              "    <tr>\n",
              "      <th>0</th>\n",
              "      <td>12285</td>\n",
              "      <td>0.114</td>\n",
              "      <td>0.744</td>\n",
              "      <td>0.142</td>\n",
              "      <td>0.4976</td>\n",
              "      <td>1</td>\n",
              "      <td>These had been my dog's favorite treats. BUT w...</td>\n",
              "      <td>negative</td>\n",
              "      <td>positive</td>\n",
              "    </tr>\n",
              "  </tbody>\n",
              "</table>\n",
              "</div>\n",
              "    <div class=\"colab-df-buttons\">\n",
              "\n",
              "  <div class=\"colab-df-container\">\n",
              "    <button class=\"colab-df-convert\" onclick=\"convertToInteractive('df-7030086d-b005-488e-9310-96f4df8f1bfe')\"\n",
              "            title=\"Convert this dataframe to an interactive table.\"\n",
              "            style=\"display:none;\">\n",
              "\n",
              "  <svg xmlns=\"http://www.w3.org/2000/svg\" height=\"24px\" viewBox=\"0 -960 960 960\">\n",
              "    <path d=\"M120-120v-720h720v720H120Zm60-500h600v-160H180v160Zm220 220h160v-160H400v160Zm0 220h160v-160H400v160ZM180-400h160v-160H180v160Zm440 0h160v-160H620v160ZM180-180h160v-160H180v160Zm440 0h160v-160H620v160Z\"/>\n",
              "  </svg>\n",
              "    </button>\n",
              "\n",
              "  <style>\n",
              "    .colab-df-container {\n",
              "      display:flex;\n",
              "      gap: 12px;\n",
              "    }\n",
              "\n",
              "    .colab-df-convert {\n",
              "      background-color: #E8F0FE;\n",
              "      border: none;\n",
              "      border-radius: 50%;\n",
              "      cursor: pointer;\n",
              "      display: none;\n",
              "      fill: #1967D2;\n",
              "      height: 32px;\n",
              "      padding: 0 0 0 0;\n",
              "      width: 32px;\n",
              "    }\n",
              "\n",
              "    .colab-df-convert:hover {\n",
              "      background-color: #E2EBFA;\n",
              "      box-shadow: 0px 1px 2px rgba(60, 64, 67, 0.3), 0px 1px 3px 1px rgba(60, 64, 67, 0.15);\n",
              "      fill: #174EA6;\n",
              "    }\n",
              "\n",
              "    .colab-df-buttons div {\n",
              "      margin-bottom: 4px;\n",
              "    }\n",
              "\n",
              "    [theme=dark] .colab-df-convert {\n",
              "      background-color: #3B4455;\n",
              "      fill: #D2E3FC;\n",
              "    }\n",
              "\n",
              "    [theme=dark] .colab-df-convert:hover {\n",
              "      background-color: #434B5C;\n",
              "      box-shadow: 0px 1px 3px 1px rgba(0, 0, 0, 0.15);\n",
              "      filter: drop-shadow(0px 1px 2px rgba(0, 0, 0, 0.3));\n",
              "      fill: #FFFFFF;\n",
              "    }\n",
              "  </style>\n",
              "\n",
              "    <script>\n",
              "      const buttonEl =\n",
              "        document.querySelector('#df-7030086d-b005-488e-9310-96f4df8f1bfe button.colab-df-convert');\n",
              "      buttonEl.style.display =\n",
              "        google.colab.kernel.accessAllowed ? 'block' : 'none';\n",
              "\n",
              "      async function convertToInteractive(key) {\n",
              "        const element = document.querySelector('#df-7030086d-b005-488e-9310-96f4df8f1bfe');\n",
              "        const dataTable =\n",
              "          await google.colab.kernel.invokeFunction('convertToInteractive',\n",
              "                                                    [key], {});\n",
              "        if (!dataTable) return;\n",
              "\n",
              "        const docLinkHtml = 'Like what you see? Visit the ' +\n",
              "          '<a target=\"_blank\" href=https://colab.research.google.com/notebooks/data_table.ipynb>data table notebook</a>'\n",
              "          + ' to learn more about interactive tables.';\n",
              "        element.innerHTML = '';\n",
              "        dataTable['output_type'] = 'display_data';\n",
              "        await google.colab.output.renderOutput(dataTable, element);\n",
              "        const docLink = document.createElement('div');\n",
              "        docLink.innerHTML = docLinkHtml;\n",
              "        element.appendChild(docLink);\n",
              "      }\n",
              "    </script>\n",
              "  </div>\n",
              "\n",
              "\n",
              "    </div>\n",
              "  </div>\n"
            ],
            "text/plain": [
              "      Id    neg    neu    pos  compound  Score  \\\n",
              "0  12285  0.114  0.744  0.142    0.4976      1   \n",
              "\n",
              "                                                Text TrueLabel VaderLabel  \n",
              "0  These had been my dog's favorite treats. BUT w...  negative   positive  "
            ]
          },
          "execution_count": 13,
          "metadata": {},
          "output_type": "execute_result"
        }
      ],
      "source": [
        "df_vader_balance.head(1)"
      ]
    },
    {
      "cell_type": "code",
      "execution_count": 14,
      "metadata": {
        "colab": {
          "base_uri": "https://localhost:8080/",
          "height": 49,
          "referenced_widgets": [
            "2c883c54a91942618dd6407f98b2b123",
            "6dd58ccab1dd456d9c07c70512643e37",
            "08f26110d1a645548fe5addbd46d6aa3",
            "291f454a06dd4deb9befc8fba9dd98e5",
            "05d07654ae874e1085f400d583b1e5ef",
            "e881619eccb441109bd92a9001f95d3e",
            "06aea7546f9648ea801be386547db319",
            "b9c673eaac8f43dbb76b69f1c2ec845f",
            "23d7c27f479f4306ab7531e6f1ed948d",
            "c77f029b02154f8ca513322fb8ab235a",
            "9448557aa2f34df9bbdfc587054070cb"
          ]
        },
        "id": "At2Z-c3LjOb7",
        "outputId": "83f40100-6e64-43d9-8ec0-d3685283d594"
      },
      "outputs": [
        {
          "data": {
            "application/vnd.jupyter.widget-view+json": {
              "model_id": "2c883c54a91942618dd6407f98b2b123",
              "version_major": 2,
              "version_minor": 0
            },
            "text/plain": [
              "  0%|          | 0/1500 [00:00<?, ?it/s]"
            ]
          },
          "metadata": {},
          "output_type": "display_data"
        }
      ],
      "source": [
        "results = {}\n",
        "\n",
        "for i, row in tqdm(df_sample.iterrows(), total=len(df_sample)):\n",
        "    text = row['Text']\n",
        "    id = row['Id']\n",
        "    results[id] = sia.polarity_scores(text)\n"
      ]
    },
    {
      "cell_type": "code",
      "execution_count": 15,
      "metadata": {
        "colab": {
          "base_uri": "https://localhost:8080/",
          "height": 423
        },
        "id": "K3gNucXsjOb7",
        "outputId": "84a93174-7d9b-4529-804b-b4ee6a0374c9"
      },
      "outputs": [
        {
          "data": {
            "application/vnd.google.colaboratory.intrinsic+json": {
              "summary": "{\n  \"name\": \"df_vader_sample\",\n  \"rows\": 1500,\n  \"fields\": [\n    {\n      \"column\": \"Id\",\n      \"properties\": {\n        \"dtype\": \"number\",\n        \"std\": 162233,\n        \"min\": 383,\n        \"max\": 568429,\n        \"num_unique_values\": 1500,\n        \"samples\": [\n          342475,\n          564853,\n          507499\n        ],\n        \"semantic_type\": \"\",\n        \"description\": \"\"\n      }\n    },\n    {\n      \"column\": \"neg\",\n      \"properties\": {\n        \"dtype\": \"number\",\n        \"std\": 0.04926908457775585,\n        \"min\": 0.0,\n        \"max\": 0.481,\n        \"num_unique_values\": 177,\n        \"samples\": [\n          0.071,\n          0.113,\n          0.025\n        ],\n        \"semantic_type\": \"\",\n        \"description\": \"\"\n      }\n    },\n    {\n      \"column\": \"neu\",\n      \"properties\": {\n        \"dtype\": \"number\",\n        \"std\": 0.10078307155087955,\n        \"min\": 0.402,\n        \"max\": 1.0,\n        \"num_unique_values\": 394,\n        \"samples\": [\n          0.86,\n          0.81,\n          0.661\n        ],\n        \"semantic_type\": \"\",\n        \"description\": \"\"\n      }\n    },\n    {\n      \"column\": \"pos\",\n      \"properties\": {\n        \"dtype\": \"number\",\n        \"std\": 0.10572031063165382,\n        \"min\": 0.0,\n        \"max\": 0.583,\n        \"num_unique_values\": 398,\n        \"samples\": [\n          0.179,\n          0.372,\n          0.144\n        ],\n        \"semantic_type\": \"\",\n        \"description\": \"\"\n      }\n    },\n    {\n      \"column\": \"compound\",\n      \"properties\": {\n        \"dtype\": \"number\",\n        \"std\": 0.44727809109032124,\n        \"min\": -0.9846,\n        \"max\": 0.9988,\n        \"num_unique_values\": 1071,\n        \"samples\": [\n          -0.1725,\n          -0.0541,\n          0.8845\n        ],\n        \"semantic_type\": \"\",\n        \"description\": \"\"\n      }\n    }\n  ]\n}",
              "type": "dataframe",
              "variable_name": "df_vader_sample"
            },
            "text/html": [
              "\n",
              "  <div id=\"df-446f25ab-bddb-4168-87af-43aa31dcc3ee\" class=\"colab-df-container\">\n",
              "    <div>\n",
              "<style scoped>\n",
              "    .dataframe tbody tr th:only-of-type {\n",
              "        vertical-align: middle;\n",
              "    }\n",
              "\n",
              "    .dataframe tbody tr th {\n",
              "        vertical-align: top;\n",
              "    }\n",
              "\n",
              "    .dataframe thead th {\n",
              "        text-align: right;\n",
              "    }\n",
              "</style>\n",
              "<table border=\"1\" class=\"dataframe\">\n",
              "  <thead>\n",
              "    <tr style=\"text-align: right;\">\n",
              "      <th></th>\n",
              "      <th>Id</th>\n",
              "      <th>neg</th>\n",
              "      <th>neu</th>\n",
              "      <th>pos</th>\n",
              "      <th>compound</th>\n",
              "    </tr>\n",
              "  </thead>\n",
              "  <tbody>\n",
              "    <tr>\n",
              "      <th>0</th>\n",
              "      <td>183524</td>\n",
              "      <td>0.015</td>\n",
              "      <td>0.748</td>\n",
              "      <td>0.236</td>\n",
              "      <td>0.9642</td>\n",
              "    </tr>\n",
              "    <tr>\n",
              "      <th>1</th>\n",
              "      <td>264043</td>\n",
              "      <td>0.019</td>\n",
              "      <td>0.905</td>\n",
              "      <td>0.077</td>\n",
              "      <td>0.8641</td>\n",
              "    </tr>\n",
              "    <tr>\n",
              "      <th>2</th>\n",
              "      <td>356974</td>\n",
              "      <td>0.094</td>\n",
              "      <td>0.557</td>\n",
              "      <td>0.350</td>\n",
              "      <td>0.9586</td>\n",
              "    </tr>\n",
              "    <tr>\n",
              "      <th>3</th>\n",
              "      <td>348928</td>\n",
              "      <td>0.119</td>\n",
              "      <td>0.727</td>\n",
              "      <td>0.155</td>\n",
              "      <td>0.5719</td>\n",
              "    </tr>\n",
              "    <tr>\n",
              "      <th>4</th>\n",
              "      <td>5081</td>\n",
              "      <td>0.000</td>\n",
              "      <td>0.793</td>\n",
              "      <td>0.207</td>\n",
              "      <td>0.9568</td>\n",
              "    </tr>\n",
              "    <tr>\n",
              "      <th>...</th>\n",
              "      <td>...</td>\n",
              "      <td>...</td>\n",
              "      <td>...</td>\n",
              "      <td>...</td>\n",
              "      <td>...</td>\n",
              "    </tr>\n",
              "    <tr>\n",
              "      <th>1495</th>\n",
              "      <td>491449</td>\n",
              "      <td>0.000</td>\n",
              "      <td>0.670</td>\n",
              "      <td>0.330</td>\n",
              "      <td>0.9300</td>\n",
              "    </tr>\n",
              "    <tr>\n",
              "      <th>1496</th>\n",
              "      <td>167803</td>\n",
              "      <td>0.000</td>\n",
              "      <td>0.903</td>\n",
              "      <td>0.097</td>\n",
              "      <td>0.3291</td>\n",
              "    </tr>\n",
              "    <tr>\n",
              "      <th>1497</th>\n",
              "      <td>368965</td>\n",
              "      <td>0.032</td>\n",
              "      <td>0.702</td>\n",
              "      <td>0.266</td>\n",
              "      <td>0.9358</td>\n",
              "    </tr>\n",
              "    <tr>\n",
              "      <th>1498</th>\n",
              "      <td>419663</td>\n",
              "      <td>0.162</td>\n",
              "      <td>0.654</td>\n",
              "      <td>0.184</td>\n",
              "      <td>-0.1117</td>\n",
              "    </tr>\n",
              "    <tr>\n",
              "      <th>1499</th>\n",
              "      <td>393306</td>\n",
              "      <td>0.053</td>\n",
              "      <td>0.752</td>\n",
              "      <td>0.195</td>\n",
              "      <td>0.8654</td>\n",
              "    </tr>\n",
              "  </tbody>\n",
              "</table>\n",
              "<p>1500 rows × 5 columns</p>\n",
              "</div>\n",
              "    <div class=\"colab-df-buttons\">\n",
              "\n",
              "  <div class=\"colab-df-container\">\n",
              "    <button class=\"colab-df-convert\" onclick=\"convertToInteractive('df-446f25ab-bddb-4168-87af-43aa31dcc3ee')\"\n",
              "            title=\"Convert this dataframe to an interactive table.\"\n",
              "            style=\"display:none;\">\n",
              "\n",
              "  <svg xmlns=\"http://www.w3.org/2000/svg\" height=\"24px\" viewBox=\"0 -960 960 960\">\n",
              "    <path d=\"M120-120v-720h720v720H120Zm60-500h600v-160H180v160Zm220 220h160v-160H400v160Zm0 220h160v-160H400v160ZM180-400h160v-160H180v160Zm440 0h160v-160H620v160ZM180-180h160v-160H180v160Zm440 0h160v-160H620v160Z\"/>\n",
              "  </svg>\n",
              "    </button>\n",
              "\n",
              "  <style>\n",
              "    .colab-df-container {\n",
              "      display:flex;\n",
              "      gap: 12px;\n",
              "    }\n",
              "\n",
              "    .colab-df-convert {\n",
              "      background-color: #E8F0FE;\n",
              "      border: none;\n",
              "      border-radius: 50%;\n",
              "      cursor: pointer;\n",
              "      display: none;\n",
              "      fill: #1967D2;\n",
              "      height: 32px;\n",
              "      padding: 0 0 0 0;\n",
              "      width: 32px;\n",
              "    }\n",
              "\n",
              "    .colab-df-convert:hover {\n",
              "      background-color: #E2EBFA;\n",
              "      box-shadow: 0px 1px 2px rgba(60, 64, 67, 0.3), 0px 1px 3px 1px rgba(60, 64, 67, 0.15);\n",
              "      fill: #174EA6;\n",
              "    }\n",
              "\n",
              "    .colab-df-buttons div {\n",
              "      margin-bottom: 4px;\n",
              "    }\n",
              "\n",
              "    [theme=dark] .colab-df-convert {\n",
              "      background-color: #3B4455;\n",
              "      fill: #D2E3FC;\n",
              "    }\n",
              "\n",
              "    [theme=dark] .colab-df-convert:hover {\n",
              "      background-color: #434B5C;\n",
              "      box-shadow: 0px 1px 3px 1px rgba(0, 0, 0, 0.15);\n",
              "      filter: drop-shadow(0px 1px 2px rgba(0, 0, 0, 0.3));\n",
              "      fill: #FFFFFF;\n",
              "    }\n",
              "  </style>\n",
              "\n",
              "    <script>\n",
              "      const buttonEl =\n",
              "        document.querySelector('#df-446f25ab-bddb-4168-87af-43aa31dcc3ee button.colab-df-convert');\n",
              "      buttonEl.style.display =\n",
              "        google.colab.kernel.accessAllowed ? 'block' : 'none';\n",
              "\n",
              "      async function convertToInteractive(key) {\n",
              "        const element = document.querySelector('#df-446f25ab-bddb-4168-87af-43aa31dcc3ee');\n",
              "        const dataTable =\n",
              "          await google.colab.kernel.invokeFunction('convertToInteractive',\n",
              "                                                    [key], {});\n",
              "        if (!dataTable) return;\n",
              "\n",
              "        const docLinkHtml = 'Like what you see? Visit the ' +\n",
              "          '<a target=\"_blank\" href=https://colab.research.google.com/notebooks/data_table.ipynb>data table notebook</a>'\n",
              "          + ' to learn more about interactive tables.';\n",
              "        element.innerHTML = '';\n",
              "        dataTable['output_type'] = 'display_data';\n",
              "        await google.colab.output.renderOutput(dataTable, element);\n",
              "        const docLink = document.createElement('div');\n",
              "        docLink.innerHTML = docLinkHtml;\n",
              "        element.appendChild(docLink);\n",
              "      }\n",
              "    </script>\n",
              "  </div>\n",
              "\n",
              "\n",
              "<div id=\"df-adb9183b-0d44-4d7a-ad3d-93d47387f940\">\n",
              "  <button class=\"colab-df-quickchart\" onclick=\"quickchart('df-adb9183b-0d44-4d7a-ad3d-93d47387f940')\"\n",
              "            title=\"Suggest charts\"\n",
              "            style=\"display:none;\">\n",
              "\n",
              "<svg xmlns=\"http://www.w3.org/2000/svg\" height=\"24px\"viewBox=\"0 0 24 24\"\n",
              "     width=\"24px\">\n",
              "    <g>\n",
              "        <path d=\"M19 3H5c-1.1 0-2 .9-2 2v14c0 1.1.9 2 2 2h14c1.1 0 2-.9 2-2V5c0-1.1-.9-2-2-2zM9 17H7v-7h2v7zm4 0h-2V7h2v10zm4 0h-2v-4h2v4z\"/>\n",
              "    </g>\n",
              "</svg>\n",
              "  </button>\n",
              "\n",
              "<style>\n",
              "  .colab-df-quickchart {\n",
              "      --bg-color: #E8F0FE;\n",
              "      --fill-color: #1967D2;\n",
              "      --hover-bg-color: #E2EBFA;\n",
              "      --hover-fill-color: #174EA6;\n",
              "      --disabled-fill-color: #AAA;\n",
              "      --disabled-bg-color: #DDD;\n",
              "  }\n",
              "\n",
              "  [theme=dark] .colab-df-quickchart {\n",
              "      --bg-color: #3B4455;\n",
              "      --fill-color: #D2E3FC;\n",
              "      --hover-bg-color: #434B5C;\n",
              "      --hover-fill-color: #FFFFFF;\n",
              "      --disabled-bg-color: #3B4455;\n",
              "      --disabled-fill-color: #666;\n",
              "  }\n",
              "\n",
              "  .colab-df-quickchart {\n",
              "    background-color: var(--bg-color);\n",
              "    border: none;\n",
              "    border-radius: 50%;\n",
              "    cursor: pointer;\n",
              "    display: none;\n",
              "    fill: var(--fill-color);\n",
              "    height: 32px;\n",
              "    padding: 0;\n",
              "    width: 32px;\n",
              "  }\n",
              "\n",
              "  .colab-df-quickchart:hover {\n",
              "    background-color: var(--hover-bg-color);\n",
              "    box-shadow: 0 1px 2px rgba(60, 64, 67, 0.3), 0 1px 3px 1px rgba(60, 64, 67, 0.15);\n",
              "    fill: var(--button-hover-fill-color);\n",
              "  }\n",
              "\n",
              "  .colab-df-quickchart-complete:disabled,\n",
              "  .colab-df-quickchart-complete:disabled:hover {\n",
              "    background-color: var(--disabled-bg-color);\n",
              "    fill: var(--disabled-fill-color);\n",
              "    box-shadow: none;\n",
              "  }\n",
              "\n",
              "  .colab-df-spinner {\n",
              "    border: 2px solid var(--fill-color);\n",
              "    border-color: transparent;\n",
              "    border-bottom-color: var(--fill-color);\n",
              "    animation:\n",
              "      spin 1s steps(1) infinite;\n",
              "  }\n",
              "\n",
              "  @keyframes spin {\n",
              "    0% {\n",
              "      border-color: transparent;\n",
              "      border-bottom-color: var(--fill-color);\n",
              "      border-left-color: var(--fill-color);\n",
              "    }\n",
              "    20% {\n",
              "      border-color: transparent;\n",
              "      border-left-color: var(--fill-color);\n",
              "      border-top-color: var(--fill-color);\n",
              "    }\n",
              "    30% {\n",
              "      border-color: transparent;\n",
              "      border-left-color: var(--fill-color);\n",
              "      border-top-color: var(--fill-color);\n",
              "      border-right-color: var(--fill-color);\n",
              "    }\n",
              "    40% {\n",
              "      border-color: transparent;\n",
              "      border-right-color: var(--fill-color);\n",
              "      border-top-color: var(--fill-color);\n",
              "    }\n",
              "    60% {\n",
              "      border-color: transparent;\n",
              "      border-right-color: var(--fill-color);\n",
              "    }\n",
              "    80% {\n",
              "      border-color: transparent;\n",
              "      border-right-color: var(--fill-color);\n",
              "      border-bottom-color: var(--fill-color);\n",
              "    }\n",
              "    90% {\n",
              "      border-color: transparent;\n",
              "      border-bottom-color: var(--fill-color);\n",
              "    }\n",
              "  }\n",
              "</style>\n",
              "\n",
              "  <script>\n",
              "    async function quickchart(key) {\n",
              "      const quickchartButtonEl =\n",
              "        document.querySelector('#' + key + ' button');\n",
              "      quickchartButtonEl.disabled = true;  // To prevent multiple clicks.\n",
              "      quickchartButtonEl.classList.add('colab-df-spinner');\n",
              "      try {\n",
              "        const charts = await google.colab.kernel.invokeFunction(\n",
              "            'suggestCharts', [key], {});\n",
              "      } catch (error) {\n",
              "        console.error('Error during call to suggestCharts:', error);\n",
              "      }\n",
              "      quickchartButtonEl.classList.remove('colab-df-spinner');\n",
              "      quickchartButtonEl.classList.add('colab-df-quickchart-complete');\n",
              "    }\n",
              "    (() => {\n",
              "      let quickchartButtonEl =\n",
              "        document.querySelector('#df-adb9183b-0d44-4d7a-ad3d-93d47387f940 button');\n",
              "      quickchartButtonEl.style.display =\n",
              "        google.colab.kernel.accessAllowed ? 'block' : 'none';\n",
              "    })();\n",
              "  </script>\n",
              "</div>\n",
              "\n",
              "  <div id=\"id_fe852925-49af-4c1b-9c41-d40d8bbbde33\">\n",
              "    <style>\n",
              "      .colab-df-generate {\n",
              "        background-color: #E8F0FE;\n",
              "        border: none;\n",
              "        border-radius: 50%;\n",
              "        cursor: pointer;\n",
              "        display: none;\n",
              "        fill: #1967D2;\n",
              "        height: 32px;\n",
              "        padding: 0 0 0 0;\n",
              "        width: 32px;\n",
              "      }\n",
              "\n",
              "      .colab-df-generate:hover {\n",
              "        background-color: #E2EBFA;\n",
              "        box-shadow: 0px 1px 2px rgba(60, 64, 67, 0.3), 0px 1px 3px 1px rgba(60, 64, 67, 0.15);\n",
              "        fill: #174EA6;\n",
              "      }\n",
              "\n",
              "      [theme=dark] .colab-df-generate {\n",
              "        background-color: #3B4455;\n",
              "        fill: #D2E3FC;\n",
              "      }\n",
              "\n",
              "      [theme=dark] .colab-df-generate:hover {\n",
              "        background-color: #434B5C;\n",
              "        box-shadow: 0px 1px 3px 1px rgba(0, 0, 0, 0.15);\n",
              "        filter: drop-shadow(0px 1px 2px rgba(0, 0, 0, 0.3));\n",
              "        fill: #FFFFFF;\n",
              "      }\n",
              "    </style>\n",
              "    <button class=\"colab-df-generate\" onclick=\"generateWithVariable('df_vader_sample')\"\n",
              "            title=\"Generate code using this dataframe.\"\n",
              "            style=\"display:none;\">\n",
              "\n",
              "  <svg xmlns=\"http://www.w3.org/2000/svg\" height=\"24px\"viewBox=\"0 0 24 24\"\n",
              "       width=\"24px\">\n",
              "    <path d=\"M7,19H8.4L18.45,9,17,7.55,7,17.6ZM5,21V16.75L18.45,3.32a2,2,0,0,1,2.83,0l1.4,1.43a1.91,1.91,0,0,1,.58,1.4,1.91,1.91,0,0,1-.58,1.4L9.25,21ZM18.45,9,17,7.55Zm-12,3A5.31,5.31,0,0,0,4.9,8.1,5.31,5.31,0,0,0,1,6.5,5.31,5.31,0,0,0,4.9,4.9,5.31,5.31,0,0,0,6.5,1,5.31,5.31,0,0,0,8.1,4.9,5.31,5.31,0,0,0,12,6.5,5.46,5.46,0,0,0,6.5,12Z\"/>\n",
              "  </svg>\n",
              "    </button>\n",
              "    <script>\n",
              "      (() => {\n",
              "      const buttonEl =\n",
              "        document.querySelector('#id_fe852925-49af-4c1b-9c41-d40d8bbbde33 button.colab-df-generate');\n",
              "      buttonEl.style.display =\n",
              "        google.colab.kernel.accessAllowed ? 'block' : 'none';\n",
              "\n",
              "      buttonEl.onclick = () => {\n",
              "        google.colab.notebook.generateWithVariable('df_vader_sample');\n",
              "      }\n",
              "      })();\n",
              "    </script>\n",
              "  </div>\n",
              "\n",
              "    </div>\n",
              "  </div>\n"
            ],
            "text/plain": [
              "          Id    neg    neu    pos  compound\n",
              "0     183524  0.015  0.748  0.236    0.9642\n",
              "1     264043  0.019  0.905  0.077    0.8641\n",
              "2     356974  0.094  0.557  0.350    0.9586\n",
              "3     348928  0.119  0.727  0.155    0.5719\n",
              "4       5081  0.000  0.793  0.207    0.9568\n",
              "...      ...    ...    ...    ...       ...\n",
              "1495  491449  0.000  0.670  0.330    0.9300\n",
              "1496  167803  0.000  0.903  0.097    0.3291\n",
              "1497  368965  0.032  0.702  0.266    0.9358\n",
              "1498  419663  0.162  0.654  0.184   -0.1117\n",
              "1499  393306  0.053  0.752  0.195    0.8654\n",
              "\n",
              "[1500 rows x 5 columns]"
            ]
          },
          "execution_count": 15,
          "metadata": {},
          "output_type": "execute_result"
        }
      ],
      "source": [
        "df_vader_sample = pd.DataFrame(results).T\n",
        "df_vader_sample = df_vader_sample.reset_index().rename(columns={'index':'Id'})\n",
        "df_vader_sample"
      ]
    },
    {
      "cell_type": "code",
      "execution_count": 16,
      "metadata": {
        "colab": {
          "base_uri": "https://localhost:8080/",
          "height": 80
        },
        "id": "yjGXnWX1jOb8",
        "outputId": "6029a47c-4565-41e8-95d3-79a23b46ef34"
      },
      "outputs": [
        {
          "data": {
            "application/vnd.google.colaboratory.intrinsic+json": {
              "summary": "{\n  \"name\": \"df_vader_sample\",\n  \"rows\": 1500,\n  \"fields\": [\n    {\n      \"column\": \"Id\",\n      \"properties\": {\n        \"dtype\": \"number\",\n        \"std\": 162233,\n        \"min\": 383,\n        \"max\": 568429,\n        \"num_unique_values\": 1500,\n        \"samples\": [\n          342475,\n          564853,\n          507499\n        ],\n        \"semantic_type\": \"\",\n        \"description\": \"\"\n      }\n    },\n    {\n      \"column\": \"neg\",\n      \"properties\": {\n        \"dtype\": \"number\",\n        \"std\": 0.04926908457775585,\n        \"min\": 0.0,\n        \"max\": 0.481,\n        \"num_unique_values\": 177,\n        \"samples\": [\n          0.071,\n          0.113,\n          0.025\n        ],\n        \"semantic_type\": \"\",\n        \"description\": \"\"\n      }\n    },\n    {\n      \"column\": \"neu\",\n      \"properties\": {\n        \"dtype\": \"number\",\n        \"std\": 0.10078307155087955,\n        \"min\": 0.402,\n        \"max\": 1.0,\n        \"num_unique_values\": 394,\n        \"samples\": [\n          0.86,\n          0.81,\n          0.661\n        ],\n        \"semantic_type\": \"\",\n        \"description\": \"\"\n      }\n    },\n    {\n      \"column\": \"pos\",\n      \"properties\": {\n        \"dtype\": \"number\",\n        \"std\": 0.10572031063165382,\n        \"min\": 0.0,\n        \"max\": 0.583,\n        \"num_unique_values\": 398,\n        \"samples\": [\n          0.179,\n          0.372,\n          0.144\n        ],\n        \"semantic_type\": \"\",\n        \"description\": \"\"\n      }\n    },\n    {\n      \"column\": \"compound\",\n      \"properties\": {\n        \"dtype\": \"number\",\n        \"std\": 0.44727809109032124,\n        \"min\": -0.9846,\n        \"max\": 0.9988,\n        \"num_unique_values\": 1071,\n        \"samples\": [\n          -0.1725,\n          -0.0541,\n          0.8845\n        ],\n        \"semantic_type\": \"\",\n        \"description\": \"\"\n      }\n    },\n    {\n      \"column\": \"Score\",\n      \"properties\": {\n        \"dtype\": \"number\",\n        \"std\": 1,\n        \"min\": 1,\n        \"max\": 5,\n        \"num_unique_values\": 5,\n        \"samples\": [\n          3,\n          2,\n          4\n        ],\n        \"semantic_type\": \"\",\n        \"description\": \"\"\n      }\n    },\n    {\n      \"column\": \"Text\",\n      \"properties\": {\n        \"dtype\": \"string\",\n        \"num_unique_values\": 1497,\n        \"samples\": [\n          \"I have been using porcini mushrooms in my cooking for twenty plus years. The Roland extra fancy porcinis that I purchased from you are the best that I have ever used, including the mushrooms that I bought in Italy and transported back to the USA.\",\n          \"I really like the flavor of Jodhpur Lentils. It is soupy but if you let it sit for a few minutes after removing the pouch from the boiling water, it thickens nicely. I serve it over Casbah Couscous. This is something I crave at times and nothing else will do. Our fav Tasty Bite is Jaipur Vegetables, but we also stock this Lentil one as well as the Peas Paneer and Paneer Makhani. I love that the ingredients in Tasty Bite are healthy, and it is great to have Indian cuisine in a convenience food. Amazon sells out of many of these, but you check tastybite for singles and cases, they also have free shipping with $50, which is fine if you buy cases of several varieties.\",\n          \"My German Shepherds love Happy Hips.  And, I am happy to be able to purchase them at Amazon!  We all thank you.\"\n        ],\n        \"semantic_type\": \"\",\n        \"description\": \"\"\n      }\n    },\n    {\n      \"column\": \"TrueLabel\",\n      \"properties\": {\n        \"dtype\": \"category\",\n        \"num_unique_values\": 3,\n        \"samples\": [\n          \"positive\",\n          \"neutral\",\n          \"negative\"\n        ],\n        \"semantic_type\": \"\",\n        \"description\": \"\"\n      }\n    }\n  ]\n}",
              "type": "dataframe",
              "variable_name": "df_vader_sample"
            },
            "text/html": [
              "\n",
              "  <div id=\"df-22d1ca28-2079-4202-bd0a-e796fce4dea7\" class=\"colab-df-container\">\n",
              "    <div>\n",
              "<style scoped>\n",
              "    .dataframe tbody tr th:only-of-type {\n",
              "        vertical-align: middle;\n",
              "    }\n",
              "\n",
              "    .dataframe tbody tr th {\n",
              "        vertical-align: top;\n",
              "    }\n",
              "\n",
              "    .dataframe thead th {\n",
              "        text-align: right;\n",
              "    }\n",
              "</style>\n",
              "<table border=\"1\" class=\"dataframe\">\n",
              "  <thead>\n",
              "    <tr style=\"text-align: right;\">\n",
              "      <th></th>\n",
              "      <th>Id</th>\n",
              "      <th>neg</th>\n",
              "      <th>neu</th>\n",
              "      <th>pos</th>\n",
              "      <th>compound</th>\n",
              "      <th>Score</th>\n",
              "      <th>Text</th>\n",
              "      <th>TrueLabel</th>\n",
              "    </tr>\n",
              "  </thead>\n",
              "  <tbody>\n",
              "    <tr>\n",
              "      <th>0</th>\n",
              "      <td>183524</td>\n",
              "      <td>0.015</td>\n",
              "      <td>0.748</td>\n",
              "      <td>0.236</td>\n",
              "      <td>0.9642</td>\n",
              "      <td>5</td>\n",
              "      <td>We really liked these cookies!  While we were ...</td>\n",
              "      <td>positive</td>\n",
              "    </tr>\n",
              "  </tbody>\n",
              "</table>\n",
              "</div>\n",
              "    <div class=\"colab-df-buttons\">\n",
              "\n",
              "  <div class=\"colab-df-container\">\n",
              "    <button class=\"colab-df-convert\" onclick=\"convertToInteractive('df-22d1ca28-2079-4202-bd0a-e796fce4dea7')\"\n",
              "            title=\"Convert this dataframe to an interactive table.\"\n",
              "            style=\"display:none;\">\n",
              "\n",
              "  <svg xmlns=\"http://www.w3.org/2000/svg\" height=\"24px\" viewBox=\"0 -960 960 960\">\n",
              "    <path d=\"M120-120v-720h720v720H120Zm60-500h600v-160H180v160Zm220 220h160v-160H400v160Zm0 220h160v-160H400v160ZM180-400h160v-160H180v160Zm440 0h160v-160H620v160ZM180-180h160v-160H180v160Zm440 0h160v-160H620v160Z\"/>\n",
              "  </svg>\n",
              "    </button>\n",
              "\n",
              "  <style>\n",
              "    .colab-df-container {\n",
              "      display:flex;\n",
              "      gap: 12px;\n",
              "    }\n",
              "\n",
              "    .colab-df-convert {\n",
              "      background-color: #E8F0FE;\n",
              "      border: none;\n",
              "      border-radius: 50%;\n",
              "      cursor: pointer;\n",
              "      display: none;\n",
              "      fill: #1967D2;\n",
              "      height: 32px;\n",
              "      padding: 0 0 0 0;\n",
              "      width: 32px;\n",
              "    }\n",
              "\n",
              "    .colab-df-convert:hover {\n",
              "      background-color: #E2EBFA;\n",
              "      box-shadow: 0px 1px 2px rgba(60, 64, 67, 0.3), 0px 1px 3px 1px rgba(60, 64, 67, 0.15);\n",
              "      fill: #174EA6;\n",
              "    }\n",
              "\n",
              "    .colab-df-buttons div {\n",
              "      margin-bottom: 4px;\n",
              "    }\n",
              "\n",
              "    [theme=dark] .colab-df-convert {\n",
              "      background-color: #3B4455;\n",
              "      fill: #D2E3FC;\n",
              "    }\n",
              "\n",
              "    [theme=dark] .colab-df-convert:hover {\n",
              "      background-color: #434B5C;\n",
              "      box-shadow: 0px 1px 3px 1px rgba(0, 0, 0, 0.15);\n",
              "      filter: drop-shadow(0px 1px 2px rgba(0, 0, 0, 0.3));\n",
              "      fill: #FFFFFF;\n",
              "    }\n",
              "  </style>\n",
              "\n",
              "    <script>\n",
              "      const buttonEl =\n",
              "        document.querySelector('#df-22d1ca28-2079-4202-bd0a-e796fce4dea7 button.colab-df-convert');\n",
              "      buttonEl.style.display =\n",
              "        google.colab.kernel.accessAllowed ? 'block' : 'none';\n",
              "\n",
              "      async function convertToInteractive(key) {\n",
              "        const element = document.querySelector('#df-22d1ca28-2079-4202-bd0a-e796fce4dea7');\n",
              "        const dataTable =\n",
              "          await google.colab.kernel.invokeFunction('convertToInteractive',\n",
              "                                                    [key], {});\n",
              "        if (!dataTable) return;\n",
              "\n",
              "        const docLinkHtml = 'Like what you see? Visit the ' +\n",
              "          '<a target=\"_blank\" href=https://colab.research.google.com/notebooks/data_table.ipynb>data table notebook</a>'\n",
              "          + ' to learn more about interactive tables.';\n",
              "        element.innerHTML = '';\n",
              "        dataTable['output_type'] = 'display_data';\n",
              "        await google.colab.output.renderOutput(dataTable, element);\n",
              "        const docLink = document.createElement('div');\n",
              "        docLink.innerHTML = docLinkHtml;\n",
              "        element.appendChild(docLink);\n",
              "      }\n",
              "    </script>\n",
              "  </div>\n",
              "\n",
              "\n",
              "    </div>\n",
              "  </div>\n"
            ],
            "text/plain": [
              "       Id    neg    neu    pos  compound  Score  \\\n",
              "0  183524  0.015  0.748  0.236    0.9642      5   \n",
              "\n",
              "                                                Text TrueLabel  \n",
              "0  We really liked these cookies!  While we were ...  positive  "
            ]
          },
          "execution_count": 16,
          "metadata": {},
          "output_type": "execute_result"
        }
      ],
      "source": [
        "df_vader_sample = df_vader_sample.merge(df_sample, how='left')\n",
        "df_vader_sample.head(1)"
      ]
    },
    {
      "cell_type": "code",
      "execution_count": 17,
      "metadata": {
        "id": "YCqaFeeujOb8"
      },
      "outputs": [],
      "source": [
        "df_vader_sample['VaderLabel'] = df_vader_sample['compound'].apply(lambda x: 'positive' if x >= 0.05\n",
        "                                                    else ('negative' if x <= -0.05 else 'neutral'))\n"
      ]
    },
    {
      "cell_type": "code",
      "execution_count": 18,
      "metadata": {
        "colab": {
          "base_uri": "https://localhost:8080/",
          "height": 80
        },
        "id": "c8EvmCYgjOb8",
        "outputId": "2a6905ae-4497-48af-97dd-5371782ad6bd"
      },
      "outputs": [
        {
          "data": {
            "application/vnd.google.colaboratory.intrinsic+json": {
              "summary": "{\n  \"name\": \"df_vader_sample\",\n  \"rows\": 1500,\n  \"fields\": [\n    {\n      \"column\": \"Id\",\n      \"properties\": {\n        \"dtype\": \"number\",\n        \"std\": 162233,\n        \"min\": 383,\n        \"max\": 568429,\n        \"num_unique_values\": 1500,\n        \"samples\": [\n          342475,\n          564853,\n          507499\n        ],\n        \"semantic_type\": \"\",\n        \"description\": \"\"\n      }\n    },\n    {\n      \"column\": \"neg\",\n      \"properties\": {\n        \"dtype\": \"number\",\n        \"std\": 0.04926908457775585,\n        \"min\": 0.0,\n        \"max\": 0.481,\n        \"num_unique_values\": 177,\n        \"samples\": [\n          0.071,\n          0.113,\n          0.025\n        ],\n        \"semantic_type\": \"\",\n        \"description\": \"\"\n      }\n    },\n    {\n      \"column\": \"neu\",\n      \"properties\": {\n        \"dtype\": \"number\",\n        \"std\": 0.10078307155087955,\n        \"min\": 0.402,\n        \"max\": 1.0,\n        \"num_unique_values\": 394,\n        \"samples\": [\n          0.86,\n          0.81,\n          0.661\n        ],\n        \"semantic_type\": \"\",\n        \"description\": \"\"\n      }\n    },\n    {\n      \"column\": \"pos\",\n      \"properties\": {\n        \"dtype\": \"number\",\n        \"std\": 0.10572031063165382,\n        \"min\": 0.0,\n        \"max\": 0.583,\n        \"num_unique_values\": 398,\n        \"samples\": [\n          0.179,\n          0.372,\n          0.144\n        ],\n        \"semantic_type\": \"\",\n        \"description\": \"\"\n      }\n    },\n    {\n      \"column\": \"compound\",\n      \"properties\": {\n        \"dtype\": \"number\",\n        \"std\": 0.44727809109032124,\n        \"min\": -0.9846,\n        \"max\": 0.9988,\n        \"num_unique_values\": 1071,\n        \"samples\": [\n          -0.1725,\n          -0.0541,\n          0.8845\n        ],\n        \"semantic_type\": \"\",\n        \"description\": \"\"\n      }\n    },\n    {\n      \"column\": \"Score\",\n      \"properties\": {\n        \"dtype\": \"number\",\n        \"std\": 1,\n        \"min\": 1,\n        \"max\": 5,\n        \"num_unique_values\": 5,\n        \"samples\": [\n          3,\n          2,\n          4\n        ],\n        \"semantic_type\": \"\",\n        \"description\": \"\"\n      }\n    },\n    {\n      \"column\": \"Text\",\n      \"properties\": {\n        \"dtype\": \"string\",\n        \"num_unique_values\": 1497,\n        \"samples\": [\n          \"I have been using porcini mushrooms in my cooking for twenty plus years. The Roland extra fancy porcinis that I purchased from you are the best that I have ever used, including the mushrooms that I bought in Italy and transported back to the USA.\",\n          \"I really like the flavor of Jodhpur Lentils. It is soupy but if you let it sit for a few minutes after removing the pouch from the boiling water, it thickens nicely. I serve it over Casbah Couscous. This is something I crave at times and nothing else will do. Our fav Tasty Bite is Jaipur Vegetables, but we also stock this Lentil one as well as the Peas Paneer and Paneer Makhani. I love that the ingredients in Tasty Bite are healthy, and it is great to have Indian cuisine in a convenience food. Amazon sells out of many of these, but you check tastybite for singles and cases, they also have free shipping with $50, which is fine if you buy cases of several varieties.\",\n          \"My German Shepherds love Happy Hips.  And, I am happy to be able to purchase them at Amazon!  We all thank you.\"\n        ],\n        \"semantic_type\": \"\",\n        \"description\": \"\"\n      }\n    },\n    {\n      \"column\": \"TrueLabel\",\n      \"properties\": {\n        \"dtype\": \"category\",\n        \"num_unique_values\": 3,\n        \"samples\": [\n          \"positive\",\n          \"neutral\",\n          \"negative\"\n        ],\n        \"semantic_type\": \"\",\n        \"description\": \"\"\n      }\n    },\n    {\n      \"column\": \"VaderLabel\",\n      \"properties\": {\n        \"dtype\": \"category\",\n        \"num_unique_values\": 3,\n        \"samples\": [\n          \"positive\",\n          \"negative\",\n          \"neutral\"\n        ],\n        \"semantic_type\": \"\",\n        \"description\": \"\"\n      }\n    }\n  ]\n}",
              "type": "dataframe",
              "variable_name": "df_vader_sample"
            },
            "text/html": [
              "\n",
              "  <div id=\"df-6db5a9dc-a677-4637-963d-b5e7df83fa84\" class=\"colab-df-container\">\n",
              "    <div>\n",
              "<style scoped>\n",
              "    .dataframe tbody tr th:only-of-type {\n",
              "        vertical-align: middle;\n",
              "    }\n",
              "\n",
              "    .dataframe tbody tr th {\n",
              "        vertical-align: top;\n",
              "    }\n",
              "\n",
              "    .dataframe thead th {\n",
              "        text-align: right;\n",
              "    }\n",
              "</style>\n",
              "<table border=\"1\" class=\"dataframe\">\n",
              "  <thead>\n",
              "    <tr style=\"text-align: right;\">\n",
              "      <th></th>\n",
              "      <th>Id</th>\n",
              "      <th>neg</th>\n",
              "      <th>neu</th>\n",
              "      <th>pos</th>\n",
              "      <th>compound</th>\n",
              "      <th>Score</th>\n",
              "      <th>Text</th>\n",
              "      <th>TrueLabel</th>\n",
              "      <th>VaderLabel</th>\n",
              "    </tr>\n",
              "  </thead>\n",
              "  <tbody>\n",
              "    <tr>\n",
              "      <th>0</th>\n",
              "      <td>183524</td>\n",
              "      <td>0.015</td>\n",
              "      <td>0.748</td>\n",
              "      <td>0.236</td>\n",
              "      <td>0.9642</td>\n",
              "      <td>5</td>\n",
              "      <td>We really liked these cookies!  While we were ...</td>\n",
              "      <td>positive</td>\n",
              "      <td>positive</td>\n",
              "    </tr>\n",
              "  </tbody>\n",
              "</table>\n",
              "</div>\n",
              "    <div class=\"colab-df-buttons\">\n",
              "\n",
              "  <div class=\"colab-df-container\">\n",
              "    <button class=\"colab-df-convert\" onclick=\"convertToInteractive('df-6db5a9dc-a677-4637-963d-b5e7df83fa84')\"\n",
              "            title=\"Convert this dataframe to an interactive table.\"\n",
              "            style=\"display:none;\">\n",
              "\n",
              "  <svg xmlns=\"http://www.w3.org/2000/svg\" height=\"24px\" viewBox=\"0 -960 960 960\">\n",
              "    <path d=\"M120-120v-720h720v720H120Zm60-500h600v-160H180v160Zm220 220h160v-160H400v160Zm0 220h160v-160H400v160ZM180-400h160v-160H180v160Zm440 0h160v-160H620v160ZM180-180h160v-160H180v160Zm440 0h160v-160H620v160Z\"/>\n",
              "  </svg>\n",
              "    </button>\n",
              "\n",
              "  <style>\n",
              "    .colab-df-container {\n",
              "      display:flex;\n",
              "      gap: 12px;\n",
              "    }\n",
              "\n",
              "    .colab-df-convert {\n",
              "      background-color: #E8F0FE;\n",
              "      border: none;\n",
              "      border-radius: 50%;\n",
              "      cursor: pointer;\n",
              "      display: none;\n",
              "      fill: #1967D2;\n",
              "      height: 32px;\n",
              "      padding: 0 0 0 0;\n",
              "      width: 32px;\n",
              "    }\n",
              "\n",
              "    .colab-df-convert:hover {\n",
              "      background-color: #E2EBFA;\n",
              "      box-shadow: 0px 1px 2px rgba(60, 64, 67, 0.3), 0px 1px 3px 1px rgba(60, 64, 67, 0.15);\n",
              "      fill: #174EA6;\n",
              "    }\n",
              "\n",
              "    .colab-df-buttons div {\n",
              "      margin-bottom: 4px;\n",
              "    }\n",
              "\n",
              "    [theme=dark] .colab-df-convert {\n",
              "      background-color: #3B4455;\n",
              "      fill: #D2E3FC;\n",
              "    }\n",
              "\n",
              "    [theme=dark] .colab-df-convert:hover {\n",
              "      background-color: #434B5C;\n",
              "      box-shadow: 0px 1px 3px 1px rgba(0, 0, 0, 0.15);\n",
              "      filter: drop-shadow(0px 1px 2px rgba(0, 0, 0, 0.3));\n",
              "      fill: #FFFFFF;\n",
              "    }\n",
              "  </style>\n",
              "\n",
              "    <script>\n",
              "      const buttonEl =\n",
              "        document.querySelector('#df-6db5a9dc-a677-4637-963d-b5e7df83fa84 button.colab-df-convert');\n",
              "      buttonEl.style.display =\n",
              "        google.colab.kernel.accessAllowed ? 'block' : 'none';\n",
              "\n",
              "      async function convertToInteractive(key) {\n",
              "        const element = document.querySelector('#df-6db5a9dc-a677-4637-963d-b5e7df83fa84');\n",
              "        const dataTable =\n",
              "          await google.colab.kernel.invokeFunction('convertToInteractive',\n",
              "                                                    [key], {});\n",
              "        if (!dataTable) return;\n",
              "\n",
              "        const docLinkHtml = 'Like what you see? Visit the ' +\n",
              "          '<a target=\"_blank\" href=https://colab.research.google.com/notebooks/data_table.ipynb>data table notebook</a>'\n",
              "          + ' to learn more about interactive tables.';\n",
              "        element.innerHTML = '';\n",
              "        dataTable['output_type'] = 'display_data';\n",
              "        await google.colab.output.renderOutput(dataTable, element);\n",
              "        const docLink = document.createElement('div');\n",
              "        docLink.innerHTML = docLinkHtml;\n",
              "        element.appendChild(docLink);\n",
              "      }\n",
              "    </script>\n",
              "  </div>\n",
              "\n",
              "\n",
              "    </div>\n",
              "  </div>\n"
            ],
            "text/plain": [
              "       Id    neg    neu    pos  compound  Score  \\\n",
              "0  183524  0.015  0.748  0.236    0.9642      5   \n",
              "\n",
              "                                                Text TrueLabel VaderLabel  \n",
              "0  We really liked these cookies!  While we were ...  positive   positive  "
            ]
          },
          "execution_count": 18,
          "metadata": {},
          "output_type": "execute_result"
        }
      ],
      "source": [
        "df_vader_sample.head(1)"
      ]
    },
    {
      "cell_type": "code",
      "execution_count": 19,
      "metadata": {
        "colab": {
          "base_uri": "https://localhost:8080/",
          "height": 672
        },
        "id": "wqwpsp51jOb8",
        "outputId": "c842b2a3-ed7c-4353-d86f-a8675ab5a139"
      },
      "outputs": [
        {
          "data": {
            "image/png": "[encoded data removed]",
            "text/plain": [
              "<Figure size 1400x800 with 2 Axes>"
            ]
          },
          "metadata": {},
          "output_type": "display_data"
        }
      ],
      "source": [
        "fig, ax = plt.subplots(1, 2, figsize=(14,8))\n",
        "\n",
        "sns.barplot(data=df_vader_balance, ax=ax[0], x='Score', y='compound')\n",
        "ax[0].set_ylim(-0.1, 1)\n",
        "ax[0].set_title('Vader Score vs compound (Balance)')\n",
        "\n",
        "sns.barplot(data=df_vader_sample, ax=ax[1], x='Score', y='compound')\n",
        "ax[1].set_ylim(-0.1, 1)\n",
        "ax[1].set_title('Vader Score vs compound (Sample)')\n",
        "plt.show()"
      ]
    },
    {
      "cell_type": "markdown",
      "metadata": {
        "id": "iw0_7dEljOb8"
      },
      "source": [
        "The average compound score in both the balanced and sample datasets increase as the Score increases."
      ]
    },
    {
      "cell_type": "code",
      "execution_count": 20,
      "metadata": {
        "id": "zxiMH1lYjOb8"
      },
      "outputs": [],
      "source": [
        "df_vader_pivot = pd.concat([df_vader_balance, df_vader_sample])\n",
        "\n",
        "df_vader_pivot_1 = df_vader_pivot.pivot_table(values=['neu', 'compound'],\n",
        "                                             index='Score',\n",
        "                                             aggfunc='mean')\n",
        "df_vader_pivot_2 = df_vader_pivot.pivot_table(values=['neg', 'pos'],\n",
        "                                             index='Score',\n",
        "                                             aggfunc='mean')"
      ]
    },
    {
      "cell_type": "code",
      "execution_count": 21,
      "metadata": {
        "colab": {
          "base_uri": "https://localhost:8080/",
          "height": 371
        },
        "id": "trpbzY7_jOb8",
        "outputId": "40d2c979-9db6-424b-d35d-afe83d9e5b90"
      },
      "outputs": [
        {
          "data": {
            "image/png": "[encoded data removed]",
            "text/plain": [
              "<Figure size 1500x500 with 2 Axes>"
            ]
          },
          "metadata": {},
          "output_type": "display_data"
        }
      ],
      "source": [
        "fig, ax = plt.subplots(1, 2, figsize=(12,6))\n",
        "\n",
        "df_vader_pivot_1.plot.bar(ax=ax[0], xlabel='Rating Scores', ylabel='Average Polarity', rot=0, figsize=(15,5),\n",
        "                          color=['purple', 'gold'])\n",
        "ax[0].legend(bbox_to_anchor=(1.05, 1), title='Polarity Type')\n",
        "ax[0].set_title('Average Compound and Neutral Sentiment by Rating Score')\n",
        "\n",
        "df_vader_pivot_2.plot.bar(ax=ax[1], xlabel='Rating Scores', ylabel='Average Polarity', rot=0, figsize=(15,5),\n",
        "                          color=['crimson', 'green'])\n",
        "ax[1].legend(bbox_to_anchor=(1.05, 1), title='Polarity Type')\n",
        "ax[1].set_title('Average Positive and Negative Sentiment Type by Rating Score')\n",
        "\n",
        "plt.tight_layout()\n",
        "plt.show()"
      ]
    },
    {
      "cell_type": "markdown",
      "metadata": {
        "id": "MDXi88mVjOb8"
      },
      "source": [
        "On the left graph, the average compound score increases as the Rating Scores increase, which is expected. However, the neutral score seems to remain flat.<br><br>\n",
        "On the right graph, the average negative polarity decreases as the Rating Scores increase, and the average positive polarity increases as the Rating Scores increase, which is also expected."
      ]
    },
    {
      "cell_type": "markdown",
      "metadata": {
        "id": "VGlrvLTpjOb8"
      },
      "source": [
        "#### **Analysis of False Positives and False Negative Reviews with the Vader Model**"
      ]
    },
    {
      "cell_type": "code",
      "execution_count": 22,
      "metadata": {
        "id": "wy9TCGINjOb8"
      },
      "outputs": [],
      "source": [
        "vader_reviews = pd.concat([df_vader_balance, df_vader_sample])"
      ]
    },
    {
      "cell_type": "markdown",
      "metadata": {
        "id": "Kb7poL49jOb9"
      },
      "source": [
        "**False Positive Review from VADER Model**"
      ]
    },
    {
      "cell_type": "markdown",
      "metadata": {
        "id": "KVXgRMYSjOb9"
      },
      "source": [
        "The text presents a humorous and scarcastic remarks about the product. While this reviewer expresses disappointment in its taste and texture, the reviewer shifts alternate uses of the product while being scarcastic. The Vader model was not able to pick up on the scarcasm and labeled the overall sentiment to be positive even though the reviewer gave the product one star."
      ]
    },
    {
      "cell_type": "code",
      "execution_count": 23,
      "metadata": {
        "colab": {
          "base_uri": "https://localhost:8080/"
        },
        "id": "nPSZrPz9jOb9",
        "outputId": "3c6fab27-1351-4c9b-90aa-327e030963a0"
      },
      "outputs": [
        {
          "name": "stdout",
          "output_type": "stream",
          "text": [
            "Text:  My husband always said that the two greatest inventions were duct tape, and WD-40, and many people share this view. Now add to this gg crispbread!!! Some people say they make great sandwiches with peanut butter, tuna salad, or cheese, I even heard they make good pizzas, so I tried these. I didn't like any of them, but not wanting to waste my money, I decided to try some other ways of enjoying these. They really are wonderful after all!!! Throw them on the pond and they make wonderful little rafts for the frogs to sunbathe on, even baby turtles will enjoy a nice sun bath on them!  Why not use them to repair holes in the barn where the grand children decided to try out the old brace and bit and drilled holes? I know mice chew through wood, but believe me it is going to take them awhile to chew through these! Cigarette burn on your coffee table? Just sand it down with with these rough little squares, {Just finish with a fine sandpaper to smooth out the roughness) and re-stain. Glue a few packs of these together and you have a great bulletin board, and if you don't have enough muscle to push the pins into it, just lay it outside the front door to scrape mud off your boots. I like to keep a stack of these on my night stand in case a burglar breaks in. Fling a few of these at him and if they don't do serious injury, they will at the least hurt enough to send them flying for safety. I am thinking of putting in a new patio, mm, I wonder!!!\n",
            "Label: positive\n",
            "Score: 1\n"
          ]
        }
      ],
      "source": [
        "# False positive review with the highest Vader Score\n",
        "\n",
        "vader_FP = vader_reviews[(vader_reviews['Score']==1) &\n",
        "                             (vader_reviews['VaderLabel']=='positive')] \\\n",
        "                             .sort_values('compound', ascending=False)\n",
        "print(f\"Text:  {vader_FP['Text'].iloc[0]}\")\n",
        "print(f\"Label: {vader_FP['VaderLabel'].iloc[0]}\")\n",
        "print(f\"Score: {vader_FP['Score'].iloc[0]}\")"
      ]
    },
    {
      "cell_type": "markdown",
      "metadata": {
        "id": "Xmh_zKwtjOb9"
      },
      "source": [
        "**False Negative Review with VADER Model**"
      ]
    },
    {
      "cell_type": "markdown",
      "metadata": {
        "id": "yogC8NVSjOb9"
      },
      "source": [
        "The text conveys a neutral sentiment about the trap being reviewed. Although the reviewer states that this specific trap works as well as others they have used for years, the overall label is negative. Although the sentiment of this review is not positive, it does not align with the 5 star rating. The reviewer must've been satisfied with the product, but the sentiment of the review was not positive."
      ]
    },
    {
      "cell_type": "code",
      "execution_count": 24,
      "metadata": {
        "colab": {
          "base_uri": "https://localhost:8080/"
        },
        "id": "A_skCnsQjOb9",
        "outputId": "749765f5-de1f-48f3-ee2f-7cc27da62e53"
      },
      "outputs": [
        {
          "name": "stdout",
          "output_type": "stream",
          "text": [
            "Text:  I have used this type of trap for years, and this one works just as well as any others I have owned.\n",
            "Label: negative\n",
            "Score: 5\n"
          ]
        }
      ],
      "source": [
        "# False negative review with the highest Vader Score\n",
        "\n",
        "vader_FN = vader_reviews[(vader_reviews['Score']==5) &\n",
        "             (vader_reviews['VaderLabel']=='negative')] \\\n",
        "                    .sort_values('compound', ascending=False)\n",
        "print(f\"Text:  {vader_FN['Text'].iloc[0]}\")\n",
        "print(f\"Label: {vader_FN['VaderLabel'].iloc[0]}\")\n",
        "print(f\"Score: {vader_FN['Score'].iloc[0]}\")"
      ]
    },
    {
      "cell_type": "markdown",
      "metadata": {
        "id": "xZZ2zEHijOb-"
      },
      "source": [
        "### Model 2: ROBERTA\n",
        "\n",
        "The RoBERTa model, a refined version of BERT (Bidirectional Encoder Representations from Transformers), is a transformer-based model developed by Facebook AI for improved natural language understanding. Trained on a larger corpus and using a more robust pretraining process than BERT, RoBERTa excels at tasks like sentiment analysis, where it can capture nuanced language patterns, context, and subtle cues in text.<br>\n",
        "\n",
        "For the Amazon product review dataset, the RoBERTa pre-trained model `cardiffnlp/twitter-roberta-base-sentiment` is used to classify reviews as positive, neutral, or negative. By processing each review through RoBERTa’s tokenizer and sequence classification layers, the model generates sentiment scores that can reveal overall customer satisfaction. These insights are useful for understanding customer preferences, identifying potential product issues, and guiding business decisions based on customer feedback."
      ]
    },
    {
      "cell_type": "code",
      "execution_count": 25,
      "metadata": {
        "id": "-lETdVX4jOb-"
      },
      "outputs": [],
      "source": [
        "import torch\n",
        "from transformers import pipeline, AutoTokenizer, AutoModelForSequenceClassification\n",
        "from scipy.special import softmax\n",
        "import warnings\n",
        "warnings.filterwarnings('ignore', message='The secret `HF_TOKEN` does not exist in your Colab secrets')"
      ]
    },
    {
      "cell_type": "code",
      "execution_count": 26,
      "metadata": {
        "colab": {
          "base_uri": "https://localhost:8080/"
        },
        "id": "CVX06uFNjOb-",
        "outputId": "c9548e2b-32f1-455f-ea4d-0157bb85785f"
      },
      "outputs": [
        {
          "name": "stderr",
          "output_type": "stream",
          "text": [
            "/usr/local/lib/python3.10/dist-packages/huggingface_hub/utils/_token.py:89: UserWarning: \n",
            "The secret `HF_TOKEN` does not exist in your Colab secrets.\n",
            "To authenticate with the Hugging Face Hub, create a token in your settings tab (https://huggingface.co/settings/tokens), set it as secret in your Google Colab and restart your session.\n",
            "You will be able to reuse this secret in all of your notebooks.\n",
            "Please note that authentication is recommended but still optional to access public models or datasets.\n",
            "  warnings.warn(\n"
          ]
        }
      ],
      "source": [
        "model_name = f\"cardiffnlp/twitter-roberta-base-sentiment\"\n",
        "tokenizer = AutoTokenizer.from_pretrained(model_name, clean_up_tokenization_spaces=True)\n",
        "model = AutoModelForSequenceClassification.from_pretrained(model_name)\n",
        "model.eval()\n",
        "\n",
        "device = torch.device(\"cpu\")\n",
        "model.to(device)\n",
        "\n",
        "encoded_text = tokenizer(example, return_tensors='pt')\n",
        "\n",
        "with torch.no_grad():\n",
        "    output = model(**encoded_text)\n",
        "\n",
        "logits = output.logits\n",
        "\n",
        "scores = softmax(logits.numpy())[0].round(6)\n",
        "\n",
        "roberta_scores = {\n",
        "    'neg': scores[0],\n",
        "    'neu': scores[1],\n",
        "    'pos': scores[2]\n",
        "}"
      ]
    },
    {
      "cell_type": "markdown",
      "metadata": {},
      "source": [
        "The sentiment analysis suggests a strong positive sentiment, aligning well with the actual score of 5, indicating satisfaction with the product. The positive score is overwhelmingly higher than the negative and neutral score."
      ]
    },
    {
      "cell_type": "code",
      "execution_count": 27,
      "metadata": {
        "colab": {
          "base_uri": "https://localhost:8080/"
        },
        "id": "tXpZyLPkjOcC",
        "outputId": "dcc2a7d1-c88f-4284-edc7-bba2f13733b8"
      },
      "outputs": [
        {
          "name": "stdout",
          "output_type": "stream",
          "text": [
            "Review Text: These bowls are the dimensions stated, but not what may seem \"small.\"  That said, good quality.  Wet food sticks, so need to clean frequently.  We use these actually for our cats; it slows them down, but also tends to make a mess with scraps outside the bowl-- better than vomit, though!\n",
            "Roberta Score: {'neg': 0.009624, 'neu': 0.04998, 'pos': 0.940395}\n",
            "Actual Score: 5\n"
          ]
        }
      ],
      "source": [
        "print(f'Review Text: {text}\\nRoberta Score: {roberta_scores}\\nActual Score: {actual_score}')"
      ]
    },
    {
      "cell_type": "code",
      "execution_count": 28,
      "metadata": {
        "id": "iT4dD8Dmr76p"
      },
      "outputs": [],
      "source": [
        "# Defining appropriate parameters for the transformer's sentiment-analysis pipeline\n",
        "tokenizer = AutoTokenizer.from_pretrained(model_name, clean_up_tokenization_spaces=True)\n",
        "sentiment_pipeline = pipeline('sentiment-analysis', f\"cardiffnlp/twitter-roberta-base-sentiment\",\n",
        "                              tokenizer=tokenizer)\n",
        "\n",
        "# Defining get_sentement function to rename the original labels to 'negative', 'neutral', and 'positive'\n",
        "def get_sentiment(text):\n",
        "    result = sentiment_pipeline(text)\n",
        "    label_map = {'LABEL_0': 'negative',\n",
        "                 'LABEL_1': 'neutral',\n",
        "                 'LABEL_2': 'positive'}\n",
        "    result[0]['label'] = label_map[result[0]['label']]\n",
        "    return result[0]"
      ]
    },
    {
      "cell_type": "code",
      "execution_count": 29,
      "metadata": {
        "colab": {
          "base_uri": "https://localhost:8080/",
          "height": 49,
          "referenced_widgets": [
            "827c2b90a7bb48be93f7202031794510",
            "247d18dc3dec43e9af9399e290a3dc37",
            "6fb82a423eec498ab498be4b5dfcacdc",
            "4d64761274f741eab5f1b95c4d41008b",
            "f309ee68f65b49fa934dc00e339c5791",
            "e2a55a2740d24d0b96eaf6774df71ca1",
            "7772868e34ee496191fd89ade808d631",
            "0e50ac2ba3ab4d299698178f9b52804c",
            "08c32f54cf9343d389c5340c829af4b2",
            "53b405f884694f968b734306ffb661ab",
            "95e5604a422c4410bced3f3e2e903e3b"
          ]
        },
        "id": "Oz-GpmL5jOb_",
        "outputId": "66d59444-c9e4-46c5-b548-a2e59ef1a502"
      },
      "outputs": [
        {
          "data": {
            "application/vnd.jupyter.widget-view+json": {
              "model_id": "827c2b90a7bb48be93f7202031794510",
              "version_major": 2,
              "version_minor": 0
            },
            "text/plain": [
              "Analyzing Sentiments:   0%|          | 0/1500 [00:00<?, ?it/s]"
            ]
          },
          "metadata": {},
          "output_type": "display_data"
        }
      ],
      "source": [
        "# RoBERTa model for the balanced dataset\n",
        "results = []\n",
        "for i, text in tqdm(enumerate(df_balance['Text']), total= len(df_balance), desc=\"Analyzing Sentiments\"):\n",
        "    try:\n",
        "        id = df_balance['Id'].iloc[i]\n",
        "        sentiment_result = get_sentiment(text)\n",
        "        sentiment_result['Id'] = id\n",
        "        results.append(sentiment_result)\n",
        "\n",
        "    except RuntimeError:\n",
        "        print(f'Broke for id: {id}')"
      ]
    },
    {
      "cell_type": "code",
      "execution_count": 30,
      "metadata": {
        "colab": {
          "base_uri": "https://localhost:8080/"
        },
        "id": "83U8_Dd8jOcA",
        "outputId": "44bf3326-56c8-401a-d1d8-9c8f0d004049"
      },
      "outputs": [
        {
          "data": {
            "text/plain": [
              "(1500, 6)"
            ]
          },
          "execution_count": 30,
          "metadata": {},
          "output_type": "execute_result"
        }
      ],
      "source": [
        "df_roberta_balance = pd.DataFrame(results)\n",
        "df_roberta_balance = df_roberta_balance.merge(df_balance, how='left')\n",
        "df_roberta_balance = df_roberta_balance.rename(columns={'label':'RobertaLabel', 'score':'RobertaScore'})\n",
        "df_roberta_balance.shape"
      ]
    },
    {
      "cell_type": "code",
      "execution_count": 31,
      "metadata": {
        "colab": {
          "base_uri": "https://localhost:8080/",
          "height": 49,
          "referenced_widgets": [
            "89458a624d4a47e2a3c5e6d9474622fe",
            "27f8d92877824fd18afff7a62e32d863",
            "db81235911c94cb2a5a72fffc6607305",
            "266a6c69042f442e9740ec209af693dd",
            "63b0a728e89049d79b9ca446ee6d01bf",
            "270633131c664587be27775b9738fa9c",
            "2e0f5c09ccff4b989e5aeed7504794fc",
            "eab4a05049b34637b402d0923277068f",
            "72a1ed360a3241b0af165dceb9a9a9c0",
            "d7c102a69ca94d9eae4c53d8229ec714",
            "7db91ca0da504fcbaefadb0b9d57c926"
          ]
        },
        "id": "G45FsMOJjOcA",
        "outputId": "738e40a4-c99e-4648-c604-e35acd2f2df3"
      },
      "outputs": [
        {
          "data": {
            "application/vnd.jupyter.widget-view+json": {
              "model_id": "89458a624d4a47e2a3c5e6d9474622fe",
              "version_major": 2,
              "version_minor": 0
            },
            "text/plain": [
              "Analyzing Sentiments:   0%|          | 0/1500 [00:00<?, ?it/s]"
            ]
          },
          "metadata": {},
          "output_type": "display_data"
        }
      ],
      "source": [
        "# RoBERTa model for the sample dataset\n",
        "results = []\n",
        "for i, text in tqdm(enumerate(df_sample['Text']), total= len(df_sample), desc=\"Analyzing Sentiments\"):\n",
        "    try:\n",
        "        id = df_sample['Id'].iloc[i]\n",
        "        sentiment_result = get_sentiment(text)\n",
        "        sentiment_result['Id'] = id\n",
        "        results.append(sentiment_result)\n",
        "\n",
        "    except RuntimeError:\n",
        "        print(f'Broke for id: {id}')"
      ]
    },
    {
      "cell_type": "code",
      "execution_count": 32,
      "metadata": {
        "colab": {
          "base_uri": "https://localhost:8080/"
        },
        "id": "E-vcDghCjOcA",
        "outputId": "84eac22a-c1ae-4bcc-b053-d95e575b9632"
      },
      "outputs": [
        {
          "data": {
            "text/plain": [
              "(1500, 6)"
            ]
          },
          "execution_count": 32,
          "metadata": {},
          "output_type": "execute_result"
        }
      ],
      "source": [
        "df_roberta_sample = pd.DataFrame(results)\n",
        "df_roberta_sample = df_roberta_sample.merge(df_sample, how='left')\n",
        "df_roberta_sample = df_roberta_sample.rename(columns={'label':'RobertaLabel', 'score':'RobertaScore'})\n",
        "df_roberta_sample.shape"
      ]
    },
    {
      "cell_type": "markdown",
      "metadata": {
        "id": "nS7OBwsrjOcA"
      },
      "source": [
        "**False Positive RoBERTa Reviews**"
      ]
    },
    {
      "cell_type": "code",
      "execution_count": 33,
      "metadata": {
        "id": "KzCoZz18jOcA"
      },
      "outputs": [],
      "source": [
        "roberta_reviews = pd.concat([df_roberta_balance, df_roberta_sample])"
      ]
    },
    {
      "cell_type": "markdown",
      "metadata": {
        "id": "srx148gBjOcA"
      },
      "source": [
        "The text expresses the reviewer’s enjoyment of a particular coffee brand, highlighting its taste, convenience, and reasonable pricing. They appreciate the hazelnut flavor and compare it favorably to freshly brewed coffee. The reviewer requests the return of the product, indicating their strong preference for it. The label is marked as \"positive,\" aligning with the enthusiastic sentiment conveyed. But the reviewer must've given a 1 star review since the product is not available on Amazon."
      ]
    },
    {
      "cell_type": "code",
      "execution_count": 34,
      "metadata": {
        "colab": {
          "base_uri": "https://localhost:8080/"
        },
        "id": "QlKMzJCqjOcB",
        "outputId": "0ed434fa-6180-4ab0-da93-9d6c3fd608f3"
      },
      "outputs": [
        {
          "name": "stdout",
          "output_type": "stream",
          "text": [
            "Text:  I have enjoyed this coffee in the canisters for years, and have found it just as good as freshly brewed coffee with a wonderful hazelnut flavor.  The canisters are so convenient and reasonably priced.  Please bring them back.\n",
            "Label: positive\n",
            "Score: 1\n"
          ]
        }
      ],
      "source": [
        "# False positive review with the highest Roberta Score\n",
        "\n",
        "roberta_FP = roberta_reviews[(roberta_reviews['Score']==1) &\n",
        "                             (roberta_reviews['RobertaLabel']=='positive')] \\\n",
        "                             .sort_values('RobertaScore', ascending=False)\n",
        "print(f\"Text:  {roberta_FP['Text'].iloc[0]}\")\n",
        "print(f\"Label: {roberta_FP['RobertaLabel'].iloc[0]}\")\n",
        "print(f\"Score: {roberta_FP['Score'].iloc[0]}\")"
      ]
    },
    {
      "cell_type": "markdown",
      "metadata": {
        "id": "zTKN5-DrjOcB"
      },
      "source": [
        "The text describes a customer's disappointment with the new formula of HappyBaby's Super Salmon product. The reviewer emphasizes their dissatisfaction, noting that the new version has less protein and more sugar and sodium compared to the old formula, which their child loved. The reviewer concludes that they will not purchase the product again. Despite the strong negative sentiment conveyed, it is incorrectly labeled as \"positive,\" suggesting a possible inconsistency in labeling or interpretation."
      ]
    },
    {
      "cell_type": "code",
      "execution_count": 35,
      "metadata": {
        "colab": {
          "base_uri": "https://localhost:8080/"
        },
        "id": "UJWMYKF6jOcB",
        "outputId": "0fc9eabd-f004-474b-c343-573db1fc05bf"
      },
      "outputs": [
        {
          "name": "stdout",
          "output_type": "stream",
          "text": [
            "Text:  Was so disappointed to discover that HappyBaby changed Super Salmon!  My little girl LOVED the old formula, and it had more protein and calories than this new version.  The new version also has more sugar and sodium than the previous version, and it has a completely different taste and texture - she won't touch it.  We will not be buying it again.\n",
            "Label: positive\n",
            "Score: 1\n"
          ]
        }
      ],
      "source": [
        "# False positive review with the lowest Roberta Score\n",
        "\n",
        "roberta_FP = roberta_reviews[(roberta_reviews['Score']==1) &\n",
        "                             (roberta_reviews['RobertaLabel']=='positive')] \\\n",
        "                             .sort_values('RobertaScore')\n",
        "print(f\"Text:  {roberta_FP['Text'].iloc[0]}\")\n",
        "print(f\"Label: {roberta_FP['RobertaLabel'].iloc[0]}\")\n",
        "print(f\"Score: {roberta_FP['Score'].iloc[0]}\")"
      ]
    },
    {
      "cell_type": "markdown",
      "metadata": {
        "id": "Y46cC73LjOcB"
      },
      "source": [
        "**False Negative RoBERTa Review**"
      ]
    },
    {
      "cell_type": "markdown",
      "metadata": {
        "id": "IRwaXJ_gjOcC"
      },
      "source": [
        "The text describes a mixed experience with Popchips Original Potato Chips. The reviewer finds the chips delicious and acknowledges that their children enjoy them as well. However, they express disappointment after discovering that the chips contain soy, which caused them a bad reaction due to their sensitivity. The label of \"negative\" seems fitting as the reviewer emphasizes their inability to enjoy the product despite liking its taste. However, the reviewer must've given a 5 since they did like the taste, and their children liked the taste."
      ]
    },
    {
      "cell_type": "code",
      "execution_count": 37,
      "metadata": {
        "colab": {
          "base_uri": "https://localhost:8080/"
        },
        "id": "roOnNVmejOcC",
        "outputId": "40d24360-cfc6-49b9-c306-c5c777a68cdb"
      },
      "outputs": [
        {
          "name": "stdout",
          "output_type": "stream",
          "text": [
            "Text:  Popchips Original Potato Chips are dee-lish.  But BEWARE of the SOY in them if you have a soy sensitivity, like I do.  I ate quite a few and had a bad reaction before reading the label and realizing that soy was an ingredient.  I just never imagined soy would be in a potato chip!  I learned my lesson!  My kids love the chips and, I agree, they are YUMMY!  I'm sad that I can't have them!  :-(\n",
            "Label: negative\n",
            "Score: 5\n"
          ]
        }
      ],
      "source": [
        "# False negative review with the lowest Roberta Score\n",
        "\n",
        "roberta_FN = roberta_reviews[(roberta_reviews['Score']==5) &\n",
        "                    (roberta_reviews['RobertaLabel']=='negative')] \\\n",
        "                    .sort_values('RobertaScore')\n",
        "print(f\"Text:  {roberta_FN['Text'].iloc[0]}\")\n",
        "print(f\"Label: {roberta_FN['RobertaLabel'].iloc[0]}\")\n",
        "print(f\"Score: {roberta_FN['Score'].iloc[0]}\")"
      ]
    },
    {
      "cell_type": "markdown",
      "metadata": {},
      "source": [
        "### Comparison\n",
        "\n",
        "**RoBERTa** excels in identifying the highly positive sentiment, reflecting the reviewer’s satisfaction more accurately than VADER.<br><br>\n",
        "**VADER** identifies a strong positive sentiment overall (through the compound score) but treats much of the text as neutral, possibly missing the strong positive sentiment due to its rule-based approach.<br><br>\n",
        "In the example review below, RoBERTa’s output is more aligned with the actual score of 5, as it captures the highly favorable tone in the review. VADER’s output suggests a mixed sentiment but does register an overall positive sentiment through its compound score."
      ]
    },
    {
      "cell_type": "code",
      "execution_count": 38,
      "metadata": {
        "colab": {
          "base_uri": "https://localhost:8080/"
        },
        "id": "w1MBmorfn2G4",
        "outputId": "8471b299-c949-45af-a93d-93bbf3a60d8f"
      },
      "outputs": [
        {
          "name": "stdout",
          "output_type": "stream",
          "text": [
            "Review Text: I have bought several of the Vitality canned dog food products and have found them all to be of good quality. The product looks more like a stew than a processed meat and it smells better. My Labrador is finicky and she appreciates this product better than  most.\n",
            "Actual Score: 5\n",
            "\n",
            "Roberta Score: {'neg': 0.009624, 'neu': 0.04998, 'pos': 0.940395}\n",
            "Vader Score:   {'neg': 0.0, 'neu': 0.695, 'pos': 0.305, 'compound': 0.9441}\n"
          ]
        }
      ],
      "source": [
        "print(f'Review Text: {example}\\nActual Score: {actual_score}\\n')\n",
        "print(f'Roberta Score: {roberta_scores}\\nVader Score:   {vader_score}')"
      ]
    },
    {
      "cell_type": "code",
      "execution_count": 41,
      "metadata": {
        "colab": {
          "base_uri": "https://localhost:8080/",
          "height": 464
        },
        "id": "APG1ah90jOcD",
        "outputId": "6e451df1-1122-43d8-c41f-ba24084562a0"
      },
      "outputs": [
        {
          "data": {
            "image/png": "[encoded data removed]",
            "text/plain": [
              "<Figure size 1400x500 with 4 Axes>"
            ]
          },
          "metadata": {},
          "output_type": "display_data"
        }
      ],
      "source": [
        "fig, ax = plt.subplots(1, 2, figsize=(14,5))\n",
        "\n",
        "cm_vader = confusion_matrix(df_vader_balance['TrueLabel'], df_vader_balance['VaderLabel'])\n",
        "\n",
        "sns.heatmap(cm_vader, ax=ax[0], annot=True, fmt='d', cmap='Blues',\n",
        "            xticklabels=df_vader_balance['TrueLabel'].unique(),\n",
        "            yticklabels=df_vader_balance['TrueLabel'].unique())\n",
        "ax[0].set_xlabel('Predicted', fontweight='bold')\n",
        "ax[0].set_ylabel('True', fontweight='bold')\n",
        "ax[0].set_title('Confusion Matrix for Vader Results (Balance)', fontweight='bold')\n",
        "\n",
        "cm_roberta = confusion_matrix(df_roberta_balance['TrueLabel'], df_roberta_balance['RobertaLabel'])\n",
        "\n",
        "sns.heatmap(cm_roberta, ax=ax[1], annot=True, fmt='d', cmap='Blues',\n",
        "            xticklabels=df_roberta_balance['TrueLabel'].unique(),\n",
        "            yticklabels=df_roberta_balance['TrueLabel'].unique())\n",
        "ax[1].set_xlabel('Predicted', fontweight='bold')\n",
        "ax[1].set_ylabel('True', fontweight='bold')\n",
        "ax[1].set_title('Confusion Matrix for RoBERTa Results (Balance)', fontweight='bold')\n",
        "\n",
        "plt.show()"
      ]
    },
    {
      "cell_type": "code",
      "execution_count": 42,
      "metadata": {
        "colab": {
          "base_uri": "https://localhost:8080/"
        },
        "id": "aQTjfnY5jOcD",
        "outputId": "5a799ba4-0f03-4966-f72f-5498b946b0ee"
      },
      "outputs": [
        {
          "name": "stdout",
          "output_type": "stream",
          "text": [
            "Classification Report for Vader Results (Balance)\n",
            "              precision    recall  f1-score   support\n",
            "\n",
            "    negative       0.62      0.38      0.47       500\n",
            "     neutral       0.49      0.04      0.07       500\n",
            "    positive       0.41      0.94      0.57       500\n",
            "\n",
            "    accuracy                           0.46      1500\n",
            "   macro avg       0.51      0.46      0.37      1500\n",
            "weighted avg       0.51      0.46      0.37      1500\n",
            "\n",
            "Classification Report for RoBERTa Results (Balance)\n",
            "              precision    recall  f1-score   support\n",
            "\n",
            "    negative       0.69      0.75      0.72       500\n",
            "     neutral       0.55      0.25      0.34       500\n",
            "    positive       0.60      0.88      0.71       500\n",
            "\n",
            "    accuracy                           0.62      1500\n",
            "   macro avg       0.61      0.62      0.59      1500\n",
            "weighted avg       0.61      0.62      0.59      1500\n",
            "\n"
          ]
        }
      ],
      "source": [
        "print('Classification Report for Vader Results (Balance)')\n",
        "print(classification_report(df_vader_balance['TrueLabel'], df_vader_balance['VaderLabel'],\n",
        "                            target_names=['negative', 'neutral', 'positive']))\n",
        "\n",
        "print('Classification Report for RoBERTa Results (Balance)')\n",
        "print(classification_report(df_roberta_balance['TrueLabel'], df_roberta_balance['RobertaLabel'],\n",
        "                            target_names=['negative', 'neutral', 'positive']))"
      ]
    },
    {
      "cell_type": "code",
      "execution_count": 43,
      "metadata": {
        "colab": {
          "base_uri": "https://localhost:8080/",
          "height": 462
        },
        "id": "nHnGdlp1jOcD",
        "outputId": "c661cd94-71a0-4bc3-eb6b-7e5ebb185a7e"
      },
      "outputs": [
        {
          "data": {
            "image/png": "[encoded data removed]",
            "text/plain": [
              "<Figure size 1400x500 with 4 Axes>"
            ]
          },
          "metadata": {},
          "output_type": "display_data"
        }
      ],
      "source": [
        "fig, ax = plt.subplots(1, 2, figsize=(14,5))\n",
        "\n",
        "\n",
        "cm_vader = confusion_matrix(df_vader_sample['TrueLabel'], df_vader_sample['VaderLabel'])\n",
        "\n",
        "sns.heatmap(cm_vader, ax=ax[0], annot=True, fmt='d', cmap='Blues',\n",
        "            xticklabels=df_vader_sample['TrueLabel'].unique(),\n",
        "            yticklabels=df_vader_sample['TrueLabel'].unique())\n",
        "ax[0].set_xlabel('Predicted', fontweight='bold')\n",
        "ax[0].set_ylabel('True', fontweight='bold')\n",
        "ax[0].set_title('Confusion Matrix for Vader Results (Sample)', fontweight='bold')\n",
        "\n",
        "cm_roberta = confusion_matrix(df_roberta_sample['TrueLabel'], df_roberta_sample['RobertaLabel'])\n",
        "\n",
        "sns.heatmap(cm_roberta, ax=ax[1], annot=True, fmt='d', cmap='Blues',\n",
        "            xticklabels=df_roberta_sample['TrueLabel'].unique(),\n",
        "            yticklabels=df_roberta_sample['TrueLabel'].unique())\n",
        "ax[1].set_xlabel('Predicted', fontweight='bold')\n",
        "ax[1].set_ylabel('True', fontweight='bold')\n",
        "ax[1].set_title('Confusion Matrix for RoBERTa Results (Sample)', fontweight='bold')\n",
        "\n",
        "plt.show()"
      ]
    },
    {
      "cell_type": "code",
      "execution_count": 44,
      "metadata": {
        "colab": {
          "base_uri": "https://localhost:8080/"
        },
        "id": "jQ7I1Ae8jOcD",
        "outputId": "91aae16b-9996-42be-eed9-972d744e5939"
      },
      "outputs": [
        {
          "name": "stdout",
          "output_type": "stream",
          "text": [
            "\n",
            "Classification Report for Vader Results (Sample)\n",
            "              precision    recall  f1-score   support\n",
            "\n",
            "    negative       0.57      0.39      0.47       206\n",
            "     neutral       0.17      0.07      0.10        86\n",
            "    positive       0.87      0.95      0.91      1208\n",
            "\n",
            "    accuracy                           0.82      1500\n",
            "   macro avg       0.54      0.47      0.49      1500\n",
            "weighted avg       0.79      0.82      0.80      1500\n",
            "\n",
            "\n",
            "Classification Report for RoBERTa Results (Sample)\n",
            "              precision    recall  f1-score   support\n",
            "\n",
            "    negative       0.66      0.71      0.68       206\n",
            "     neutral       0.11      0.12      0.11        86\n",
            "    positive       0.94      0.92      0.93      1208\n",
            "\n",
            "    accuracy                           0.85      1500\n",
            "   macro avg       0.57      0.58      0.58      1500\n",
            "weighted avg       0.85      0.85      0.85      1500\n",
            "\n"
          ]
        }
      ],
      "source": [
        "print('\\nClassification Report for Vader Results (Sample)')\n",
        "print(classification_report(df_vader_sample['TrueLabel'], df_vader_sample['VaderLabel'],\n",
        "                            target_names=['negative', 'neutral', 'positive']))\n",
        "\n",
        "print('\\nClassification Report for RoBERTa Results (Sample)')\n",
        "print(classification_report(df_roberta_sample['TrueLabel'], df_roberta_sample['RobertaLabel'],\n",
        "                            target_names=['negative', 'neutral', 'positive']))"
      ]
    },
    {
      "cell_type": "markdown",
      "metadata": {},
      "source": [
        "### Conclusion\n",
        "\n",
        "The classification reports for VADER and RoBERTa on the balanced and sampled Amazon product datasets reveal distinct strengths and limitations for each model:<br>\n",
        "\n",
        "**VADER Performance**:<br>\n",
        "\n",
        "**Balanced Dataset**: VADER struggles with neutral reviews, achieving low precision, recall, and F1-scores, suggesting difficulty in detecting moderately toned sentiments. Positive sentiment, however, shows a high recall but at the cost of lower precision, indicating that VADER may overclassify reviews as positive.<br>\n",
        "**Sampled Dataset**: VADER's performance on the imbalanced sample shows high precision and recall for positive sentiment but limited ability to differentiate neutral reviews, evident in the significant drop in F1-score. Accuracy is higher due to the model’s positive sentiment bias, likely due to the large number of positive samples.<br><br>\n",
        "\n",
        "**RoBERTa Performance**:\n",
        "\n",
        "**Balanced Dataset**: RoBERTa generally outperforms VADER, especially in detecting negative and positive sentiments with stronger precision and recall. However, it too struggles with neutral reviews, achieving only a modest F1-score. Accuracy of 62% shows it performs better than VADER overall.<br>\n",
        "**Sampled Dataset**: RoBERTa’s precision and recall for positive and negative sentiments remain high, while its neutral detection remains challenging. The model achieves high accuracy here, aided by the abundance of positive samples.<br><br>\n",
        "\n",
        "**Insights:**\n",
        "\n",
        "**Neutral Detection**: Both models have trouble identifying neutral sentiment, with significantly lower F1-scores for neutral reviews across datasets. This suggests that detecting moderate sentiments is complex, possibly due to subtle language cues.<br>\n",
        "**Impact of Dataset Imbalance**: In the sampled dataset, both models show an increase in overall accuracy, but this may mask challenges in identifying less frequent sentiments, such as neutral and negative. For a more balanced performance, additional training or fine-tuning on neutral-dominant data could be beneficial.<br>\n",
        "**Conclusion**: RoBERTa provides a more robust classification than VADER on balanced data, especially for negative and positive reviews, but both models struggle with neutral sentiment, likely due to subtler language cues and dataset imbalance."
      ]
    },
    {
      "cell_type": "markdown",
      "metadata": {},
      "source": []
    }
  ],
  "metadata": {
    "colab": {
      "provenance": []
    },
    "kernelspec": {
      "display_name": "base",
      "language": "python",
      "name": "python3"
    },
    "language_info": {
      "codemirror_mode": {
        "name": "ipython",
        "version": 3
      },
      "file_extension": ".py",
      "mimetype": "text/x-python",
      "name": "python",
      "nbconvert_exporter": "python",
      "pygments_lexer": "ipython3",
      "version": "3.9.20"
    },
    "widgets": {
      "application/vnd.jupyter.widget-state+json": {
        "055873d2bd134a85950a6f3719361bb9": {
          "model_module": "@jupyter-widgets/controls",
          "model_module_version": "1.5.0",
          "model_name": "DescriptionStyleModel",
          "state": {
            "_model_module": "@jupyter-widgets/controls",
            "_model_module_version": "1.5.0",
            "_model_name": "DescriptionStyleModel",
            "_view_count": null,
            "_view_module": "@jupyter-widgets/base",
            "_view_module_version": "1.2.0",
            "_view_name": "StyleView",
            "description_width": ""
          }
        },
        "05d07654ae874e1085f400d583b1e5ef": {
          "model_module": "@jupyter-widgets/base",
          "model_module_version": "1.2.0",
          "model_name": "LayoutModel",
          "state": {
            "_model_module": "@jupyter-widgets/base",
            "_model_module_version": "1.2.0",
            "_model_name": "LayoutModel",
            "_view_count": null,
            "_view_module": "@jupyter-widgets/base",
            "_view_module_version": "1.2.0",
            "_view_name": "LayoutView",
            "align_content": null,
            "align_items": null,
            "align_self": null,
            "border": null,
            "bottom": null,
            "display": null,
            "flex": null,
            "flex_flow": null,
            "grid_area": null,
            "grid_auto_columns": null,
            "grid_auto_flow": null,
            "grid_auto_rows": null,
            "grid_column": null,
            "grid_gap": null,
            "grid_row": null,
            "grid_template_areas": null,
            "grid_template_columns": null,
            "grid_template_rows": null,
            "height": null,
            "justify_content": null,
            "justify_items": null,
            "left": null,
            "margin": null,
            "max_height": null,
            "max_width": null,
            "min_height": null,
            "min_width": null,
            "object_fit": null,
            "object_position": null,
            "order": null,
            "overflow": null,
            "overflow_x": null,
            "overflow_y": null,
            "padding": null,
            "right": null,
            "top": null,
            "visibility": null,
            "width": null
          }
        },
        "06aea7546f9648ea801be386547db319": {
          "model_module": "@jupyter-widgets/controls",
          "model_module_version": "1.5.0",
          "model_name": "DescriptionStyleModel",
          "state": {
            "_model_module": "@jupyter-widgets/controls",
            "_model_module_version": "1.5.0",
            "_model_name": "DescriptionStyleModel",
            "_view_count": null,
            "_view_module": "@jupyter-widgets/base",
            "_view_module_version": "1.2.0",
            "_view_name": "StyleView",
            "description_width": ""
          }
        },
        "08c32f54cf9343d389c5340c829af4b2": {
          "model_module": "@jupyter-widgets/controls",
          "model_module_version": "1.5.0",
          "model_name": "ProgressStyleModel",
          "state": {
            "_model_module": "@jupyter-widgets/controls",
            "_model_module_version": "1.5.0",
            "_model_name": "ProgressStyleModel",
            "_view_count": null,
            "_view_module": "@jupyter-widgets/base",
            "_view_module_version": "1.2.0",
            "_view_name": "StyleView",
            "bar_color": null,
            "description_width": ""
          }
        },
        "08f26110d1a645548fe5addbd46d6aa3": {
          "model_module": "@jupyter-widgets/controls",
          "model_module_version": "1.5.0",
          "model_name": "FloatProgressModel",
          "state": {
            "_dom_classes": [],
            "_model_module": "@jupyter-widgets/controls",
            "_model_module_version": "1.5.0",
            "_model_name": "FloatProgressModel",
            "_view_count": null,
            "_view_module": "@jupyter-widgets/controls",
            "_view_module_version": "1.5.0",
            "_view_name": "ProgressView",
            "bar_style": "success",
            "description": "",
            "description_tooltip": null,
            "layout": "IPY_MODEL_b9c673eaac8f43dbb76b69f1c2ec845f",
            "max": 1500,
            "min": 0,
            "orientation": "horizontal",
            "style": "IPY_MODEL_23d7c27f479f4306ab7531e6f1ed948d",
            "value": 1500
          }
        },
        "0bb618ce5bce44c9bcdc37a6d5ac1d61": {
          "model_module": "@jupyter-widgets/base",
          "model_module_version": "1.2.0",
          "model_name": "LayoutModel",
          "state": {
            "_model_module": "@jupyter-widgets/base",
            "_model_module_version": "1.2.0",
            "_model_name": "LayoutModel",
            "_view_count": null,
            "_view_module": "@jupyter-widgets/base",
            "_view_module_version": "1.2.0",
            "_view_name": "LayoutView",
            "align_content": null,
            "align_items": null,
            "align_self": null,
            "border": null,
            "bottom": null,
            "display": null,
            "flex": null,
            "flex_flow": null,
            "grid_area": null,
            "grid_auto_columns": null,
            "grid_auto_flow": null,
            "grid_auto_rows": null,
            "grid_column": null,
            "grid_gap": null,
            "grid_row": null,
            "grid_template_areas": null,
            "grid_template_columns": null,
            "grid_template_rows": null,
            "height": null,
            "justify_content": null,
            "justify_items": null,
            "left": null,
            "margin": null,
            "max_height": null,
            "max_width": null,
            "min_height": null,
            "min_width": null,
            "object_fit": null,
            "object_position": null,
            "order": null,
            "overflow": null,
            "overflow_x": null,
            "overflow_y": null,
            "padding": null,
            "right": null,
            "top": null,
            "visibility": null,
            "width": null
          }
        },
        "0e50ac2ba3ab4d299698178f9b52804c": {
          "model_module": "@jupyter-widgets/base",
          "model_module_version": "1.2.0",
          "model_name": "LayoutModel",
          "state": {
            "_model_module": "@jupyter-widgets/base",
            "_model_module_version": "1.2.0",
            "_model_name": "LayoutModel",
            "_view_count": null,
            "_view_module": "@jupyter-widgets/base",
            "_view_module_version": "1.2.0",
            "_view_name": "LayoutView",
            "align_content": null,
            "align_items": null,
            "align_self": null,
            "border": null,
            "bottom": null,
            "display": null,
            "flex": null,
            "flex_flow": null,
            "grid_area": null,
            "grid_auto_columns": null,
            "grid_auto_flow": null,
            "grid_auto_rows": null,
            "grid_column": null,
            "grid_gap": null,
            "grid_row": null,
            "grid_template_areas": null,
            "grid_template_columns": null,
            "grid_template_rows": null,
            "height": null,
            "justify_content": null,
            "justify_items": null,
            "left": null,
            "margin": null,
            "max_height": null,
            "max_width": null,
            "min_height": null,
            "min_width": null,
            "object_fit": null,
            "object_position": null,
            "order": null,
            "overflow": null,
            "overflow_x": null,
            "overflow_y": null,
            "padding": null,
            "right": null,
            "top": null,
            "visibility": null,
            "width": null
          }
        },
        "11a8a3459192418e9c0abdff82661165": {
          "model_module": "@jupyter-widgets/base",
          "model_module_version": "1.2.0",
          "model_name": "LayoutModel",
          "state": {
            "_model_module": "@jupyter-widgets/base",
            "_model_module_version": "1.2.0",
            "_model_name": "LayoutModel",
            "_view_count": null,
            "_view_module": "@jupyter-widgets/base",
            "_view_module_version": "1.2.0",
            "_view_name": "LayoutView",
            "align_content": null,
            "align_items": null,
            "align_self": null,
            "border": null,
            "bottom": null,
            "display": null,
            "flex": null,
            "flex_flow": null,
            "grid_area": null,
            "grid_auto_columns": null,
            "grid_auto_flow": null,
            "grid_auto_rows": null,
            "grid_column": null,
            "grid_gap": null,
            "grid_row": null,
            "grid_template_areas": null,
            "grid_template_columns": null,
            "grid_template_rows": null,
            "height": null,
            "justify_content": null,
            "justify_items": null,
            "left": null,
            "margin": null,
            "max_height": null,
            "max_width": null,
            "min_height": null,
            "min_width": null,
            "object_fit": null,
            "object_position": null,
            "order": null,
            "overflow": null,
            "overflow_x": null,
            "overflow_y": null,
            "padding": null,
            "right": null,
            "top": null,
            "visibility": null,
            "width": null
          }
        },
        "23d7c27f479f4306ab7531e6f1ed948d": {
          "model_module": "@jupyter-widgets/controls",
          "model_module_version": "1.5.0",
          "model_name": "ProgressStyleModel",
          "state": {
            "_model_module": "@jupyter-widgets/controls",
            "_model_module_version": "1.5.0",
            "_model_name": "ProgressStyleModel",
            "_view_count": null,
            "_view_module": "@jupyter-widgets/base",
            "_view_module_version": "1.2.0",
            "_view_name": "StyleView",
            "bar_color": null,
            "description_width": ""
          }
        },
        "247d18dc3dec43e9af9399e290a3dc37": {
          "model_module": "@jupyter-widgets/controls",
          "model_module_version": "1.5.0",
          "model_name": "HTMLModel",
          "state": {
            "_dom_classes": [],
            "_model_module": "@jupyter-widgets/controls",
            "_model_module_version": "1.5.0",
            "_model_name": "HTMLModel",
            "_view_count": null,
            "_view_module": "@jupyter-widgets/controls",
            "_view_module_version": "1.5.0",
            "_view_name": "HTMLView",
            "description": "",
            "description_tooltip": null,
            "layout": "IPY_MODEL_e2a55a2740d24d0b96eaf6774df71ca1",
            "placeholder": "​",
            "style": "IPY_MODEL_7772868e34ee496191fd89ade808d631",
            "value": "Analyzing Sentiments: 100%"
          }
        },
        "266a6c69042f442e9740ec209af693dd": {
          "model_module": "@jupyter-widgets/controls",
          "model_module_version": "1.5.0",
          "model_name": "HTMLModel",
          "state": {
            "_dom_classes": [],
            "_model_module": "@jupyter-widgets/controls",
            "_model_module_version": "1.5.0",
            "_model_name": "HTMLModel",
            "_view_count": null,
            "_view_module": "@jupyter-widgets/controls",
            "_view_module_version": "1.5.0",
            "_view_name": "HTMLView",
            "description": "",
            "description_tooltip": null,
            "layout": "IPY_MODEL_d7c102a69ca94d9eae4c53d8229ec714",
            "placeholder": "​",
            "style": "IPY_MODEL_7db91ca0da504fcbaefadb0b9d57c926",
            "value": " 1500/1500 [12:00&lt;00:00,  3.28it/s]"
          }
        },
        "270633131c664587be27775b9738fa9c": {
          "model_module": "@jupyter-widgets/base",
          "model_module_version": "1.2.0",
          "model_name": "LayoutModel",
          "state": {
            "_model_module": "@jupyter-widgets/base",
            "_model_module_version": "1.2.0",
            "_model_name": "LayoutModel",
            "_view_count": null,
            "_view_module": "@jupyter-widgets/base",
            "_view_module_version": "1.2.0",
            "_view_name": "LayoutView",
            "align_content": null,
            "align_items": null,
            "align_self": null,
            "border": null,
            "bottom": null,
            "display": null,
            "flex": null,
            "flex_flow": null,
            "grid_area": null,
            "grid_auto_columns": null,
            "grid_auto_flow": null,
            "grid_auto_rows": null,
            "grid_column": null,
            "grid_gap": null,
            "grid_row": null,
            "grid_template_areas": null,
            "grid_template_columns": null,
            "grid_template_rows": null,
            "height": null,
            "justify_content": null,
            "justify_items": null,
            "left": null,
            "margin": null,
            "max_height": null,
            "max_width": null,
            "min_height": null,
            "min_width": null,
            "object_fit": null,
            "object_position": null,
            "order": null,
            "overflow": null,
            "overflow_x": null,
            "overflow_y": null,
            "padding": null,
            "right": null,
            "top": null,
            "visibility": null,
            "width": null
          }
        },
        "27f8d92877824fd18afff7a62e32d863": {
          "model_module": "@jupyter-widgets/controls",
          "model_module_version": "1.5.0",
          "model_name": "HTMLModel",
          "state": {
            "_dom_classes": [],
            "_model_module": "@jupyter-widgets/controls",
            "_model_module_version": "1.5.0",
            "_model_name": "HTMLModel",
            "_view_count": null,
            "_view_module": "@jupyter-widgets/controls",
            "_view_module_version": "1.5.0",
            "_view_name": "HTMLView",
            "description": "",
            "description_tooltip": null,
            "layout": "IPY_MODEL_270633131c664587be27775b9738fa9c",
            "placeholder": "​",
            "style": "IPY_MODEL_2e0f5c09ccff4b989e5aeed7504794fc",
            "value": "Analyzing Sentiments: 100%"
          }
        },
        "291f454a06dd4deb9befc8fba9dd98e5": {
          "model_module": "@jupyter-widgets/controls",
          "model_module_version": "1.5.0",
          "model_name": "HTMLModel",
          "state": {
            "_dom_classes": [],
            "_model_module": "@jupyter-widgets/controls",
            "_model_module_version": "1.5.0",
            "_model_name": "HTMLModel",
            "_view_count": null,
            "_view_module": "@jupyter-widgets/controls",
            "_view_module_version": "1.5.0",
            "_view_name": "HTMLView",
            "description": "",
            "description_tooltip": null,
            "layout": "IPY_MODEL_c77f029b02154f8ca513322fb8ab235a",
            "placeholder": "​",
            "style": "IPY_MODEL_9448557aa2f34df9bbdfc587054070cb",
            "value": " 1500/1500 [00:05&lt;00:00, 238.74it/s]"
          }
        },
        "2bffc0dfac0946829dfe9e254b566381": {
          "model_module": "@jupyter-widgets/controls",
          "model_module_version": "1.5.0",
          "model_name": "HTMLModel",
          "state": {
            "_dom_classes": [],
            "_model_module": "@jupyter-widgets/controls",
            "_model_module_version": "1.5.0",
            "_model_name": "HTMLModel",
            "_view_count": null,
            "_view_module": "@jupyter-widgets/controls",
            "_view_module_version": "1.5.0",
            "_view_name": "HTMLView",
            "description": "",
            "description_tooltip": null,
            "layout": "IPY_MODEL_0bb618ce5bce44c9bcdc37a6d5ac1d61",
            "placeholder": "​",
            "style": "IPY_MODEL_c757ff102ccd40e8961c7cf9ab74f23d",
            "value": "100%"
          }
        },
        "2c883c54a91942618dd6407f98b2b123": {
          "model_module": "@jupyter-widgets/controls",
          "model_module_version": "1.5.0",
          "model_name": "HBoxModel",
          "state": {
            "_dom_classes": [],
            "_model_module": "@jupyter-widgets/controls",
            "_model_module_version": "1.5.0",
            "_model_name": "HBoxModel",
            "_view_count": null,
            "_view_module": "@jupyter-widgets/controls",
            "_view_module_version": "1.5.0",
            "_view_name": "HBoxView",
            "box_style": "",
            "children": [
              "IPY_MODEL_6dd58ccab1dd456d9c07c70512643e37",
              "IPY_MODEL_08f26110d1a645548fe5addbd46d6aa3",
              "IPY_MODEL_291f454a06dd4deb9befc8fba9dd98e5"
            ],
            "layout": "IPY_MODEL_05d07654ae874e1085f400d583b1e5ef"
          }
        },
        "2e0f5c09ccff4b989e5aeed7504794fc": {
          "model_module": "@jupyter-widgets/controls",
          "model_module_version": "1.5.0",
          "model_name": "DescriptionStyleModel",
          "state": {
            "_model_module": "@jupyter-widgets/controls",
            "_model_module_version": "1.5.0",
            "_model_name": "DescriptionStyleModel",
            "_view_count": null,
            "_view_module": "@jupyter-widgets/base",
            "_view_module_version": "1.2.0",
            "_view_name": "StyleView",
            "description_width": ""
          }
        },
        "32cfe81fc55646afbe49566a51698a61": {
          "model_module": "@jupyter-widgets/controls",
          "model_module_version": "1.5.0",
          "model_name": "ProgressStyleModel",
          "state": {
            "_model_module": "@jupyter-widgets/controls",
            "_model_module_version": "1.5.0",
            "_model_name": "ProgressStyleModel",
            "_view_count": null,
            "_view_module": "@jupyter-widgets/base",
            "_view_module_version": "1.2.0",
            "_view_name": "StyleView",
            "bar_color": null,
            "description_width": ""
          }
        },
        "4d64761274f741eab5f1b95c4d41008b": {
          "model_module": "@jupyter-widgets/controls",
          "model_module_version": "1.5.0",
          "model_name": "HTMLModel",
          "state": {
            "_dom_classes": [],
            "_model_module": "@jupyter-widgets/controls",
            "_model_module_version": "1.5.0",
            "_model_name": "HTMLModel",
            "_view_count": null,
            "_view_module": "@jupyter-widgets/controls",
            "_view_module_version": "1.5.0",
            "_view_name": "HTMLView",
            "description": "",
            "description_tooltip": null,
            "layout": "IPY_MODEL_53b405f884694f968b734306ffb661ab",
            "placeholder": "​",
            "style": "IPY_MODEL_95e5604a422c4410bced3f3e2e903e3b",
            "value": " 1500/1500 [11:58&lt;00:00,  3.59it/s]"
          }
        },
        "53b405f884694f968b734306ffb661ab": {
          "model_module": "@jupyter-widgets/base",
          "model_module_version": "1.2.0",
          "model_name": "LayoutModel",
          "state": {
            "_model_module": "@jupyter-widgets/base",
            "_model_module_version": "1.2.0",
            "_model_name": "LayoutModel",
            "_view_count": null,
            "_view_module": "@jupyter-widgets/base",
            "_view_module_version": "1.2.0",
            "_view_name": "LayoutView",
            "align_content": null,
            "align_items": null,
            "align_self": null,
            "border": null,
            "bottom": null,
            "display": null,
            "flex": null,
            "flex_flow": null,
            "grid_area": null,
            "grid_auto_columns": null,
            "grid_auto_flow": null,
            "grid_auto_rows": null,
            "grid_column": null,
            "grid_gap": null,
            "grid_row": null,
            "grid_template_areas": null,
            "grid_template_columns": null,
            "grid_template_rows": null,
            "height": null,
            "justify_content": null,
            "justify_items": null,
            "left": null,
            "margin": null,
            "max_height": null,
            "max_width": null,
            "min_height": null,
            "min_width": null,
            "object_fit": null,
            "object_position": null,
            "order": null,
            "overflow": null,
            "overflow_x": null,
            "overflow_y": null,
            "padding": null,
            "right": null,
            "top": null,
            "visibility": null,
            "width": null
          }
        },
        "5c3b548d649e4aed89f1a7852ee80b7b": {
          "model_module": "@jupyter-widgets/controls",
          "model_module_version": "1.5.0",
          "model_name": "FloatProgressModel",
          "state": {
            "_dom_classes": [],
            "_model_module": "@jupyter-widgets/controls",
            "_model_module_version": "1.5.0",
            "_model_name": "FloatProgressModel",
            "_view_count": null,
            "_view_module": "@jupyter-widgets/controls",
            "_view_module_version": "1.5.0",
            "_view_name": "ProgressView",
            "bar_style": "success",
            "description": "",
            "description_tooltip": null,
            "layout": "IPY_MODEL_ddbaeeb0ef70489398b1e2208f61884c",
            "max": 1500,
            "min": 0,
            "orientation": "horizontal",
            "style": "IPY_MODEL_32cfe81fc55646afbe49566a51698a61",
            "value": 1500
          }
        },
        "63b0a728e89049d79b9ca446ee6d01bf": {
          "model_module": "@jupyter-widgets/base",
          "model_module_version": "1.2.0",
          "model_name": "LayoutModel",
          "state": {
            "_model_module": "@jupyter-widgets/base",
            "_model_module_version": "1.2.0",
            "_model_name": "LayoutModel",
            "_view_count": null,
            "_view_module": "@jupyter-widgets/base",
            "_view_module_version": "1.2.0",
            "_view_name": "LayoutView",
            "align_content": null,
            "align_items": null,
            "align_self": null,
            "border": null,
            "bottom": null,
            "display": null,
            "flex": null,
            "flex_flow": null,
            "grid_area": null,
            "grid_auto_columns": null,
            "grid_auto_flow": null,
            "grid_auto_rows": null,
            "grid_column": null,
            "grid_gap": null,
            "grid_row": null,
            "grid_template_areas": null,
            "grid_template_columns": null,
            "grid_template_rows": null,
            "height": null,
            "justify_content": null,
            "justify_items": null,
            "left": null,
            "margin": null,
            "max_height": null,
            "max_width": null,
            "min_height": null,
            "min_width": null,
            "object_fit": null,
            "object_position": null,
            "order": null,
            "overflow": null,
            "overflow_x": null,
            "overflow_y": null,
            "padding": null,
            "right": null,
            "top": null,
            "visibility": null,
            "width": null
          }
        },
        "6dd58ccab1dd456d9c07c70512643e37": {
          "model_module": "@jupyter-widgets/controls",
          "model_module_version": "1.5.0",
          "model_name": "HTMLModel",
          "state": {
            "_dom_classes": [],
            "_model_module": "@jupyter-widgets/controls",
            "_model_module_version": "1.5.0",
            "_model_name": "HTMLModel",
            "_view_count": null,
            "_view_module": "@jupyter-widgets/controls",
            "_view_module_version": "1.5.0",
            "_view_name": "HTMLView",
            "description": "",
            "description_tooltip": null,
            "layout": "IPY_MODEL_e881619eccb441109bd92a9001f95d3e",
            "placeholder": "​",
            "style": "IPY_MODEL_06aea7546f9648ea801be386547db319",
            "value": "100%"
          }
        },
        "6fb82a423eec498ab498be4b5dfcacdc": {
          "model_module": "@jupyter-widgets/controls",
          "model_module_version": "1.5.0",
          "model_name": "FloatProgressModel",
          "state": {
            "_dom_classes": [],
            "_model_module": "@jupyter-widgets/controls",
            "_model_module_version": "1.5.0",
            "_model_name": "FloatProgressModel",
            "_view_count": null,
            "_view_module": "@jupyter-widgets/controls",
            "_view_module_version": "1.5.0",
            "_view_name": "ProgressView",
            "bar_style": "success",
            "description": "",
            "description_tooltip": null,
            "layout": "IPY_MODEL_0e50ac2ba3ab4d299698178f9b52804c",
            "max": 1500,
            "min": 0,
            "orientation": "horizontal",
            "style": "IPY_MODEL_08c32f54cf9343d389c5340c829af4b2",
            "value": 1500
          }
        },
        "72a1ed360a3241b0af165dceb9a9a9c0": {
          "model_module": "@jupyter-widgets/controls",
          "model_module_version": "1.5.0",
          "model_name": "ProgressStyleModel",
          "state": {
            "_model_module": "@jupyter-widgets/controls",
            "_model_module_version": "1.5.0",
            "_model_name": "ProgressStyleModel",
            "_view_count": null,
            "_view_module": "@jupyter-widgets/base",
            "_view_module_version": "1.2.0",
            "_view_name": "StyleView",
            "bar_color": null,
            "description_width": ""
          }
        },
        "7772868e34ee496191fd89ade808d631": {
          "model_module": "@jupyter-widgets/controls",
          "model_module_version": "1.5.0",
          "model_name": "DescriptionStyleModel",
          "state": {
            "_model_module": "@jupyter-widgets/controls",
            "_model_module_version": "1.5.0",
            "_model_name": "DescriptionStyleModel",
            "_view_count": null,
            "_view_module": "@jupyter-widgets/base",
            "_view_module_version": "1.2.0",
            "_view_name": "StyleView",
            "description_width": ""
          }
        },
        "7bd46c6bdec740d282059482ce37d5c7": {
          "model_module": "@jupyter-widgets/controls",
          "model_module_version": "1.5.0",
          "model_name": "HTMLModel",
          "state": {
            "_dom_classes": [],
            "_model_module": "@jupyter-widgets/controls",
            "_model_module_version": "1.5.0",
            "_model_name": "HTMLModel",
            "_view_count": null,
            "_view_module": "@jupyter-widgets/controls",
            "_view_module_version": "1.5.0",
            "_view_name": "HTMLView",
            "description": "",
            "description_tooltip": null,
            "layout": "IPY_MODEL_11a8a3459192418e9c0abdff82661165",
            "placeholder": "​",
            "style": "IPY_MODEL_055873d2bd134a85950a6f3719361bb9",
            "value": " 1500/1500 [00:05&lt;00:00, 457.85it/s]"
          }
        },
        "7db91ca0da504fcbaefadb0b9d57c926": {
          "model_module": "@jupyter-widgets/controls",
          "model_module_version": "1.5.0",
          "model_name": "DescriptionStyleModel",
          "state": {
            "_model_module": "@jupyter-widgets/controls",
            "_model_module_version": "1.5.0",
            "_model_name": "DescriptionStyleModel",
            "_view_count": null,
            "_view_module": "@jupyter-widgets/base",
            "_view_module_version": "1.2.0",
            "_view_name": "StyleView",
            "description_width": ""
          }
        },
        "827c2b90a7bb48be93f7202031794510": {
          "model_module": "@jupyter-widgets/controls",
          "model_module_version": "1.5.0",
          "model_name": "HBoxModel",
          "state": {
            "_dom_classes": [],
            "_model_module": "@jupyter-widgets/controls",
            "_model_module_version": "1.5.0",
            "_model_name": "HBoxModel",
            "_view_count": null,
            "_view_module": "@jupyter-widgets/controls",
            "_view_module_version": "1.5.0",
            "_view_name": "HBoxView",
            "box_style": "",
            "children": [
              "IPY_MODEL_247d18dc3dec43e9af9399e290a3dc37",
              "IPY_MODEL_6fb82a423eec498ab498be4b5dfcacdc",
              "IPY_MODEL_4d64761274f741eab5f1b95c4d41008b"
            ],
            "layout": "IPY_MODEL_f309ee68f65b49fa934dc00e339c5791"
          }
        },
        "89458a624d4a47e2a3c5e6d9474622fe": {
          "model_module": "@jupyter-widgets/controls",
          "model_module_version": "1.5.0",
          "model_name": "HBoxModel",
          "state": {
            "_dom_classes": [],
            "_model_module": "@jupyter-widgets/controls",
            "_model_module_version": "1.5.0",
            "_model_name": "HBoxModel",
            "_view_count": null,
            "_view_module": "@jupyter-widgets/controls",
            "_view_module_version": "1.5.0",
            "_view_name": "HBoxView",
            "box_style": "",
            "children": [
              "IPY_MODEL_27f8d92877824fd18afff7a62e32d863",
              "IPY_MODEL_db81235911c94cb2a5a72fffc6607305",
              "IPY_MODEL_266a6c69042f442e9740ec209af693dd"
            ],
            "layout": "IPY_MODEL_63b0a728e89049d79b9ca446ee6d01bf"
          }
        },
        "9448557aa2f34df9bbdfc587054070cb": {
          "model_module": "@jupyter-widgets/controls",
          "model_module_version": "1.5.0",
          "model_name": "DescriptionStyleModel",
          "state": {
            "_model_module": "@jupyter-widgets/controls",
            "_model_module_version": "1.5.0",
            "_model_name": "DescriptionStyleModel",
            "_view_count": null,
            "_view_module": "@jupyter-widgets/base",
            "_view_module_version": "1.2.0",
            "_view_name": "StyleView",
            "description_width": ""
          }
        },
        "95e5604a422c4410bced3f3e2e903e3b": {
          "model_module": "@jupyter-widgets/controls",
          "model_module_version": "1.5.0",
          "model_name": "DescriptionStyleModel",
          "state": {
            "_model_module": "@jupyter-widgets/controls",
            "_model_module_version": "1.5.0",
            "_model_name": "DescriptionStyleModel",
            "_view_count": null,
            "_view_module": "@jupyter-widgets/base",
            "_view_module_version": "1.2.0",
            "_view_name": "StyleView",
            "description_width": ""
          }
        },
        "96873c4e17424ce18662cc102c3f6a42": {
          "model_module": "@jupyter-widgets/base",
          "model_module_version": "1.2.0",
          "model_name": "LayoutModel",
          "state": {
            "_model_module": "@jupyter-widgets/base",
            "_model_module_version": "1.2.0",
            "_model_name": "LayoutModel",
            "_view_count": null,
            "_view_module": "@jupyter-widgets/base",
            "_view_module_version": "1.2.0",
            "_view_name": "LayoutView",
            "align_content": null,
            "align_items": null,
            "align_self": null,
            "border": null,
            "bottom": null,
            "display": null,
            "flex": null,
            "flex_flow": null,
            "grid_area": null,
            "grid_auto_columns": null,
            "grid_auto_flow": null,
            "grid_auto_rows": null,
            "grid_column": null,
            "grid_gap": null,
            "grid_row": null,
            "grid_template_areas": null,
            "grid_template_columns": null,
            "grid_template_rows": null,
            "height": null,
            "justify_content": null,
            "justify_items": null,
            "left": null,
            "margin": null,
            "max_height": null,
            "max_width": null,
            "min_height": null,
            "min_width": null,
            "object_fit": null,
            "object_position": null,
            "order": null,
            "overflow": null,
            "overflow_x": null,
            "overflow_y": null,
            "padding": null,
            "right": null,
            "top": null,
            "visibility": null,
            "width": null
          }
        },
        "b9c673eaac8f43dbb76b69f1c2ec845f": {
          "model_module": "@jupyter-widgets/base",
          "model_module_version": "1.2.0",
          "model_name": "LayoutModel",
          "state": {
            "_model_module": "@jupyter-widgets/base",
            "_model_module_version": "1.2.0",
            "_model_name": "LayoutModel",
            "_view_count": null,
            "_view_module": "@jupyter-widgets/base",
            "_view_module_version": "1.2.0",
            "_view_name": "LayoutView",
            "align_content": null,
            "align_items": null,
            "align_self": null,
            "border": null,
            "bottom": null,
            "display": null,
            "flex": null,
            "flex_flow": null,
            "grid_area": null,
            "grid_auto_columns": null,
            "grid_auto_flow": null,
            "grid_auto_rows": null,
            "grid_column": null,
            "grid_gap": null,
            "grid_row": null,
            "grid_template_areas": null,
            "grid_template_columns": null,
            "grid_template_rows": null,
            "height": null,
            "justify_content": null,
            "justify_items": null,
            "left": null,
            "margin": null,
            "max_height": null,
            "max_width": null,
            "min_height": null,
            "min_width": null,
            "object_fit": null,
            "object_position": null,
            "order": null,
            "overflow": null,
            "overflow_x": null,
            "overflow_y": null,
            "padding": null,
            "right": null,
            "top": null,
            "visibility": null,
            "width": null
          }
        },
        "c757ff102ccd40e8961c7cf9ab74f23d": {
          "model_module": "@jupyter-widgets/controls",
          "model_module_version": "1.5.0",
          "model_name": "DescriptionStyleModel",
          "state": {
            "_model_module": "@jupyter-widgets/controls",
            "_model_module_version": "1.5.0",
            "_model_name": "DescriptionStyleModel",
            "_view_count": null,
            "_view_module": "@jupyter-widgets/base",
            "_view_module_version": "1.2.0",
            "_view_name": "StyleView",
            "description_width": ""
          }
        },
        "c77f029b02154f8ca513322fb8ab235a": {
          "model_module": "@jupyter-widgets/base",
          "model_module_version": "1.2.0",
          "model_name": "LayoutModel",
          "state": {
            "_model_module": "@jupyter-widgets/base",
            "_model_module_version": "1.2.0",
            "_model_name": "LayoutModel",
            "_view_count": null,
            "_view_module": "@jupyter-widgets/base",
            "_view_module_version": "1.2.0",
            "_view_name": "LayoutView",
            "align_content": null,
            "align_items": null,
            "align_self": null,
            "border": null,
            "bottom": null,
            "display": null,
            "flex": null,
            "flex_flow": null,
            "grid_area": null,
            "grid_auto_columns": null,
            "grid_auto_flow": null,
            "grid_auto_rows": null,
            "grid_column": null,
            "grid_gap": null,
            "grid_row": null,
            "grid_template_areas": null,
            "grid_template_columns": null,
            "grid_template_rows": null,
            "height": null,
            "justify_content": null,
            "justify_items": null,
            "left": null,
            "margin": null,
            "max_height": null,
            "max_width": null,
            "min_height": null,
            "min_width": null,
            "object_fit": null,
            "object_position": null,
            "order": null,
            "overflow": null,
            "overflow_x": null,
            "overflow_y": null,
            "padding": null,
            "right": null,
            "top": null,
            "visibility": null,
            "width": null
          }
        },
        "d7c102a69ca94d9eae4c53d8229ec714": {
          "model_module": "@jupyter-widgets/base",
          "model_module_version": "1.2.0",
          "model_name": "LayoutModel",
          "state": {
            "_model_module": "@jupyter-widgets/base",
            "_model_module_version": "1.2.0",
            "_model_name": "LayoutModel",
            "_view_count": null,
            "_view_module": "@jupyter-widgets/base",
            "_view_module_version": "1.2.0",
            "_view_name": "LayoutView",
            "align_content": null,
            "align_items": null,
            "align_self": null,
            "border": null,
            "bottom": null,
            "display": null,
            "flex": null,
            "flex_flow": null,
            "grid_area": null,
            "grid_auto_columns": null,
            "grid_auto_flow": null,
            "grid_auto_rows": null,
            "grid_column": null,
            "grid_gap": null,
            "grid_row": null,
            "grid_template_areas": null,
            "grid_template_columns": null,
            "grid_template_rows": null,
            "height": null,
            "justify_content": null,
            "justify_items": null,
            "left": null,
            "margin": null,
            "max_height": null,
            "max_width": null,
            "min_height": null,
            "min_width": null,
            "object_fit": null,
            "object_position": null,
            "order": null,
            "overflow": null,
            "overflow_x": null,
            "overflow_y": null,
            "padding": null,
            "right": null,
            "top": null,
            "visibility": null,
            "width": null
          }
        },
        "db81235911c94cb2a5a72fffc6607305": {
          "model_module": "@jupyter-widgets/controls",
          "model_module_version": "1.5.0",
          "model_name": "FloatProgressModel",
          "state": {
            "_dom_classes": [],
            "_model_module": "@jupyter-widgets/controls",
            "_model_module_version": "1.5.0",
            "_model_name": "FloatProgressModel",
            "_view_count": null,
            "_view_module": "@jupyter-widgets/controls",
            "_view_module_version": "1.5.0",
            "_view_name": "ProgressView",
            "bar_style": "success",
            "description": "",
            "description_tooltip": null,
            "layout": "IPY_MODEL_eab4a05049b34637b402d0923277068f",
            "max": 1500,
            "min": 0,
            "orientation": "horizontal",
            "style": "IPY_MODEL_72a1ed360a3241b0af165dceb9a9a9c0",
            "value": 1500
          }
        },
        "ddbaeeb0ef70489398b1e2208f61884c": {
          "model_module": "@jupyter-widgets/base",
          "model_module_version": "1.2.0",
          "model_name": "LayoutModel",
          "state": {
            "_model_module": "@jupyter-widgets/base",
            "_model_module_version": "1.2.0",
            "_model_name": "LayoutModel",
            "_view_count": null,
            "_view_module": "@jupyter-widgets/base",
            "_view_module_version": "1.2.0",
            "_view_name": "LayoutView",
            "align_content": null,
            "align_items": null,
            "align_self": null,
            "border": null,
            "bottom": null,
            "display": null,
            "flex": null,
            "flex_flow": null,
            "grid_area": null,
            "grid_auto_columns": null,
            "grid_auto_flow": null,
            "grid_auto_rows": null,
            "grid_column": null,
            "grid_gap": null,
            "grid_row": null,
            "grid_template_areas": null,
            "grid_template_columns": null,
            "grid_template_rows": null,
            "height": null,
            "justify_content": null,
            "justify_items": null,
            "left": null,
            "margin": null,
            "max_height": null,
            "max_width": null,
            "min_height": null,
            "min_width": null,
            "object_fit": null,
            "object_position": null,
            "order": null,
            "overflow": null,
            "overflow_x": null,
            "overflow_y": null,
            "padding": null,
            "right": null,
            "top": null,
            "visibility": null,
            "width": null
          }
        },
        "e085cc422bb74efeb45d4d6c8b688443": {
          "model_module": "@jupyter-widgets/controls",
          "model_module_version": "1.5.0",
          "model_name": "HBoxModel",
          "state": {
            "_dom_classes": [],
            "_model_module": "@jupyter-widgets/controls",
            "_model_module_version": "1.5.0",
            "_model_name": "HBoxModel",
            "_view_count": null,
            "_view_module": "@jupyter-widgets/controls",
            "_view_module_version": "1.5.0",
            "_view_name": "HBoxView",
            "box_style": "",
            "children": [
              "IPY_MODEL_2bffc0dfac0946829dfe9e254b566381",
              "IPY_MODEL_5c3b548d649e4aed89f1a7852ee80b7b",
              "IPY_MODEL_7bd46c6bdec740d282059482ce37d5c7"
            ],
            "layout": "IPY_MODEL_96873c4e17424ce18662cc102c3f6a42"
          }
        },
        "e2a55a2740d24d0b96eaf6774df71ca1": {
          "model_module": "@jupyter-widgets/base",
          "model_module_version": "1.2.0",
          "model_name": "LayoutModel",
          "state": {
            "_model_module": "@jupyter-widgets/base",
            "_model_module_version": "1.2.0",
            "_model_name": "LayoutModel",
            "_view_count": null,
            "_view_module": "@jupyter-widgets/base",
            "_view_module_version": "1.2.0",
            "_view_name": "LayoutView",
            "align_content": null,
            "align_items": null,
            "align_self": null,
            "border": null,
            "bottom": null,
            "display": null,
            "flex": null,
            "flex_flow": null,
            "grid_area": null,
            "grid_auto_columns": null,
            "grid_auto_flow": null,
            "grid_auto_rows": null,
            "grid_column": null,
            "grid_gap": null,
            "grid_row": null,
            "grid_template_areas": null,
            "grid_template_columns": null,
            "grid_template_rows": null,
            "height": null,
            "justify_content": null,
            "justify_items": null,
            "left": null,
            "margin": null,
            "max_height": null,
            "max_width": null,
            "min_height": null,
            "min_width": null,
            "object_fit": null,
            "object_position": null,
            "order": null,
            "overflow": null,
            "overflow_x": null,
            "overflow_y": null,
            "padding": null,
            "right": null,
            "top": null,
            "visibility": null,
            "width": null
          }
        },
        "e881619eccb441109bd92a9001f95d3e": {
          "model_module": "@jupyter-widgets/base",
          "model_module_version": "1.2.0",
          "model_name": "LayoutModel",
          "state": {
            "_model_module": "@jupyter-widgets/base",
            "_model_module_version": "1.2.0",
            "_model_name": "LayoutModel",
            "_view_count": null,
            "_view_module": "@jupyter-widgets/base",
            "_view_module_version": "1.2.0",
            "_view_name": "LayoutView",
            "align_content": null,
            "align_items": null,
            "align_self": null,
            "border": null,
            "bottom": null,
            "display": null,
            "flex": null,
            "flex_flow": null,
            "grid_area": null,
            "grid_auto_columns": null,
            "grid_auto_flow": null,
            "grid_auto_rows": null,
            "grid_column": null,
            "grid_gap": null,
            "grid_row": null,
            "grid_template_areas": null,
            "grid_template_columns": null,
            "grid_template_rows": null,
            "height": null,
            "justify_content": null,
            "justify_items": null,
            "left": null,
            "margin": null,
            "max_height": null,
            "max_width": null,
            "min_height": null,
            "min_width": null,
            "object_fit": null,
            "object_position": null,
            "order": null,
            "overflow": null,
            "overflow_x": null,
            "overflow_y": null,
            "padding": null,
            "right": null,
            "top": null,
            "visibility": null,
            "width": null
          }
        },
        "eab4a05049b34637b402d0923277068f": {
          "model_module": "@jupyter-widgets/base",
          "model_module_version": "1.2.0",
          "model_name": "LayoutModel",
          "state": {
            "_model_module": "@jupyter-widgets/base",
            "_model_module_version": "1.2.0",
            "_model_name": "LayoutModel",
            "_view_count": null,
            "_view_module": "@jupyter-widgets/base",
            "_view_module_version": "1.2.0",
            "_view_name": "LayoutView",
            "align_content": null,
            "align_items": null,
            "align_self": null,
            "border": null,
            "bottom": null,
            "display": null,
            "flex": null,
            "flex_flow": null,
            "grid_area": null,
            "grid_auto_columns": null,
            "grid_auto_flow": null,
            "grid_auto_rows": null,
            "grid_column": null,
            "grid_gap": null,
            "grid_row": null,
            "grid_template_areas": null,
            "grid_template_columns": null,
            "grid_template_rows": null,
            "height": null,
            "justify_content": null,
            "justify_items": null,
            "left": null,
            "margin": null,
            "max_height": null,
            "max_width": null,
            "min_height": null,
            "min_width": null,
            "object_fit": null,
            "object_position": null,
            "order": null,
            "overflow": null,
            "overflow_x": null,
            "overflow_y": null,
            "padding": null,
            "right": null,
            "top": null,
            "visibility": null,
            "width": null
          }
        },
        "f309ee68f65b49fa934dc00e339c5791": {
          "model_module": "@jupyter-widgets/base",
          "model_module_version": "1.2.0",
          "model_name": "LayoutModel",
          "state": {
            "_model_module": "@jupyter-widgets/base",
            "_model_module_version": "1.2.0",
            "_model_name": "LayoutModel",
            "_view_count": null,
            "_view_module": "@jupyter-widgets/base",
            "_view_module_version": "1.2.0",
            "_view_name": "LayoutView",
            "align_content": null,
            "align_items": null,
            "align_self": null,
            "border": null,
            "bottom": null,
            "display": null,
            "flex": null,
            "flex_flow": null,
            "grid_area": null,
            "grid_auto_columns": null,
            "grid_auto_flow": null,
            "grid_auto_rows": null,
            "grid_column": null,
            "grid_gap": null,
            "grid_row": null,
            "grid_template_areas": null,
            "grid_template_columns": null,
            "grid_template_rows": null,
            "height": null,
            "justify_content": null,
            "justify_items": null,
            "left": null,
            "margin": null,
            "max_height": null,
            "max_width": null,
            "min_height": null,
            "min_width": null,
            "object_fit": null,
            "object_position": null,
            "order": null,
            "overflow": null,
            "overflow_x": null,
            "overflow_y": null,
            "padding": null,
            "right": null,
            "top": null,
            "visibility": null,
            "width": null
          }
        }
      }
    }
  },
  "nbformat": 4,
  "nbformat_minor": 0
}
